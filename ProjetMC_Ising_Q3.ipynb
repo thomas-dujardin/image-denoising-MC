{
  "nbformat": 4,
  "nbformat_minor": 0,
  "metadata": {
    "colab": {
      "name": "ProjetMC-Ising.ipynb",
      "provenance": [],
      "collapsed_sections": []
    },
    "kernelspec": {
      "name": "python3",
      "display_name": "Python 3"
    },
    "language_info": {
      "name": "python"
    }
  },
  "cells": [
    {
      "cell_type": "code",
      "execution_count": 48,
      "metadata": {
        "id": "pzCFgt11xlI2"
      },
      "outputs": [],
      "source": [
        "from PIL import Image, ImageOps\n",
        "import numpy as np\n",
        "import math\n",
        "import matplotlib.pyplot as plt"
      ]
    },
    {
      "cell_type": "code",
      "source": [
        "#image = Image.open('op-art-black-and-white-infinity-whirl-tom-hill.jpg')\n",
        "image = Image.open('ok_gibbs.jpg')\n",
        "image = ImageOps.grayscale(image)\n",
        "print(image.format)\n",
        "print(image.size)\n",
        "length = image.size[0]\n",
        "height = image.size[1]\n",
        "print(image.mode)\n",
        "# afficher l'image\n",
        "data = np.asarray(image)\n",
        "image"
      ],
      "metadata": {
        "colab": {
          "base_uri": "https://localhost:8080/",
          "height": 147
        },
        "id": "sNSkJGfm0j0Z",
        "outputId": "943d21cb-f895-4c4b-da15-50ee5b75ba16"
      },
      "execution_count": 80,
      "outputs": [
        {
          "output_type": "stream",
          "name": "stdout",
          "text": [
            "None\n",
            "(75, 75)\n",
            "L\n"
          ]
        },
        {
          "output_type": "execute_result",
          "data": {
            "text/plain": [
              "<PIL.Image.Image image mode=L size=75x75 at 0x7F101CE5F9D0>"
            ],
            "image/png": "[encoded data removed]"
          },
          "metadata": {},
          "execution_count": 80
        }
      ]
    },
    {
      "cell_type": "code",
      "source": [
        "# Constantes\n",
        "\n",
        "tau = 1.06 # écart-type de yi|xi=k\n",
        "alpha = 0 # paramètre devant somme xi dans la loi d'Ising\n",
        "beta = 0.3 # paramètre devant nombre de voisins de même couleur dans la loi d'Ising\n",
        "\n",
        "def bruiteur(image, proba):\n",
        "  image_array = data.astype('int16')\n",
        "  image_array = image_array\n",
        "  # Pour chaque pixel, on inverse sa couleur avec proba 10 %\n",
        "  for i in range(np.shape(image_array)[0]):\n",
        "    for j in range(np.shape(image_array)[1]):\n",
        "      a = np.random.choice([-1, 1], None, p=[proba, 1-proba])\n",
        "      if a < 0:\n",
        "        image_array[i][j] = 255 - image_array[i][j]\n",
        "  return image_array\n",
        "bruit_test = bruiteur(image, 0.1) # Bruitage par inversion de 10 % des pixels\n",
        "from matplotlib import cm\n",
        "PIL_image = Image.fromarray(np.uint8(bruit_test)).convert('L')\n",
        "PIL_image"
      ],
      "metadata": {
        "colab": {
          "base_uri": "https://localhost:8080/",
          "height": 92
        },
        "id": "0qcd6mhq2WZo",
        "outputId": "741b2cca-dc58-48cc-80f7-06c5106e016b"
      },
      "execution_count": 128,
      "outputs": [
        {
          "output_type": "execute_result",
          "data": {
            "text/plain": [
              "<PIL.Image.Image image mode=L size=75x75 at 0x7F101C4EEB50>"
            ],
            "image/png": "[encoded data removed]"
          },
          "metadata": {},
          "execution_count": 128
        }
      ]
    },
    {
      "cell_type": "code",
      "source": [
        "bruit_test_norm = 2*(bruit_test/255)-1 # yi € {-1 ; 1} (image bruitée, 1 = noir, -1 = blanc), xi € {-1 ; 1} (image restaurée, 1 = noir, -1 = blanc)"
      ],
      "metadata": {
        "id": "cT_sNLifUY_2"
      },
      "execution_count": 129,
      "outputs": []
    },
    {
      "cell_type": "markdown",
      "source": [
        "##Echantilloneur de Gibbs pour sampler selon xi|yi"
      ],
      "metadata": {
        "id": "zPxhO45yEVk_"
      }
    },
    {
      "cell_type": "code",
      "source": [
        "# Sampler de Gibbs (tau, alpha, beta connus)\n",
        "# https://towardsdatascience.com/image-denoising-with-gibbs-sampling-mcmc-concepts-and-code-implementation-11d42a90e153\n",
        "# https://pchanda.github.io/IsingModelDenoising/\n",
        "\n",
        "def debruiteur(img_bruitee, samples, alpha, beta, tau):\n",
        "  probas = np.zeros(bruit_test_norm.shape)\n",
        "  img_random = 2*np.random.randint(2, size=(height, length))-1\n",
        "  for step in range(samples):\n",
        "          for i in range(1, img_random.shape[0]-1):\n",
        "              for j in range(1, img_random.shape[1]-1):\n",
        "                  y = sample_y(i, j, img_random, img_bruitee, alpha, beta, tau)\n",
        "                  img_random[i, j] = y\n",
        "                  if y == 1:\n",
        "                      probas[i, j] += 1\n",
        "  probas = probas / samples\n",
        "  return probas\n",
        "\n",
        "def sample_y(i, j, Y, X, alpha, beta, tau): #échantillon de P(x[i,j] | V(x[i,j])) (V[x[i,j]] contient les pixels adjacents à x[i,j], et contient y[i,j])\n",
        "    markov_blanket = [Y[i - 1, j], Y[i, j - 1], Y[i, j + 1], Y[i + 1, j], X[i, j]]\n",
        "    w = ((markov_blanket[-1]-1)**2)/(2*tau**2) - alpha + beta * sum(markov_blanket)\n",
        "    w2 = ((markov_blanket[-1]+1)**2)/(2*tau**2) + alpha - beta * sum(markov_blanket)\n",
        "    prob = np.exp(w)/(np.exp(w2) + np.exp(w))\n",
        "    return (np.random.rand() < prob) * 2 - 1\n",
        "  \n",
        "probas = debruiteur(bruit_test_norm, 20, alpha, beta, tau)"
      ],
      "metadata": {
        "id": "lakQLz89DUWq"
      },
      "execution_count": 130,
      "outputs": []
    },
    {
      "cell_type": "code",
      "source": [
        "probas_copy = probas[:]"
      ],
      "metadata": {
        "id": "PFu85ZxAehic"
      },
      "execution_count": 131,
      "outputs": []
    },
    {
      "cell_type": "code",
      "source": [
        "probas_copy"
      ],
      "metadata": {
        "colab": {
          "base_uri": "https://localhost:8080/"
        },
        "id": "9c9vv9NJUuKS",
        "outputId": "afbaf7d8-1e97-48be-e410-9072b5d1d35f"
      },
      "execution_count": 132,
      "outputs": [
        {
          "output_type": "execute_result",
          "data": {
            "text/plain": [
              "array([[0.  , 0.  , 0.  , ..., 0.  , 0.  , 0.  ],\n",
              "       [0.  , 0.1 , 0.1 , ..., 0.  , 0.05, 0.  ],\n",
              "       [0.  , 0.65, 0.1 , ..., 0.  , 0.  , 0.  ],\n",
              "       ...,\n",
              "       [0.  , 0.8 , 0.2 , ..., 0.2 , 0.25, 0.  ],\n",
              "       [0.  , 1.  , 0.25, ..., 0.  , 0.05, 0.  ],\n",
              "       [0.  , 0.  , 0.  , ..., 0.  , 0.  , 0.  ]])"
            ]
          },
          "metadata": {},
          "execution_count": 132
        }
      ]
    },
    {
      "cell_type": "markdown",
      "source": [
        "## Pour afficher l'image débruitée"
      ],
      "metadata": {
        "id": "a1E7GmO_EbPG"
      }
    },
    {
      "cell_type": "code",
      "source": [
        "probas_copy[probas_copy > 0.5] = 255\n",
        "probas_copy[probas_copy <= 0.5] = 0\n",
        "PIL_image2 = Image.fromarray(np.uint8(probas_copy)).convert('L')\n",
        "PIL_image2"
      ],
      "metadata": {
        "colab": {
          "base_uri": "https://localhost:8080/",
          "height": 92
        },
        "id": "XElD4WfTfnaf",
        "outputId": "88877595-60c2-4748-b6a8-7530fb2c3603"
      },
      "execution_count": 133,
      "outputs": [
        {
          "output_type": "execute_result",
          "data": {
            "text/plain": [
              "<PIL.Image.Image image mode=L size=75x75 at 0x7F101CB69090>"
            ],
            "image/png": "[encoded data removed]"
          },
          "metadata": {},
          "execution_count": 133
        }
      ]
    },
    {
      "cell_type": "markdown",
      "source": [
        "## Question 2 : tau inconnu, on suppose une loi a priori en Inverse-Gamma"
      ],
      "metadata": {
        "id": "ggMZA2B2Effw"
      }
    },
    {
      "cell_type": "code",
      "source": [
        "#Q2, a priori inverse-gamma\n",
        "\n",
        "import math\n",
        "\n",
        "alpha_ising = 0\n",
        "beta_ising = 0.3\n",
        "gamma_inv = 3\n",
        "rho_inv = 0.5\n",
        "\n",
        "def sample_y_Q2(i, j, Y, X, alpha, beta, tau): #échantillon de P(x[i,j] | V(x[i,j])) (V[x[i,j]] contient les pixels adjacents à x[i,j], et contient y[i,j])\n",
        "    markov_blanket = [Y[i - 1, j], Y[i, j - 1], Y[i, j + 1], Y[i + 1, j], X[i, j]]\n",
        "    w = ((markov_blanket[-1]-1)**2)/(2*tau**2) - alpha + beta * sum(markov_blanket)\n",
        "    w2 = ((markov_blanket[-1]+1)**2)/(2*tau**2) + alpha - beta * sum(markov_blanket)\n",
        "    prob = np.exp(w)/(np.exp(w2) + np.exp(w))\n",
        "    return (np.random.rand() < prob) * 2 - 1\n",
        "\n",
        "def metropolis_hastings(target_density, a, b, tau_precedent, size=1):\n",
        "    burnin_size = 0\n",
        "    size += burnin_size\n",
        "    x0 = tau_precedent\n",
        "    xt = x0\n",
        "    samples = []\n",
        "    for i in range(size):\n",
        "        xt_candidate = np.random.normal(xt, 0.2)\n",
        "        accept_prob = min((target_density(xt_candidate))/(target_density(xt)), 1)\n",
        "        if np.random.uniform(0, 1) < accept_prob:\n",
        "            xt = xt_candidate\n",
        "        samples.append(xt)\n",
        "    return samples[0]\n",
        "\n",
        "def debruiteur_Q2(img_bruitee, alpha_ising, beta_ising, gamma_inv, rho_inv, nbre_tirages):\n",
        "  img_random = 2*np.random.randint(2, size=(height, length))-1\n",
        "  a,b = img_random.shape\n",
        "  sim_tau = [2*np.ones((height, length)) for i in range(nbre_tirages)]\n",
        "  somme_voisins = 0\n",
        "  samplez = 50\n",
        "  probas = np.zeros((height, length))\n",
        "  for step in range(1, nbre_tirages):\n",
        "    mean_step=np.mean(sim_tau[step-1])\n",
        "    for s in range(samplez):\n",
        "      for k in range(1, img_random.shape[0]-1):\n",
        "        for l in range(1, img_random.shape[1]-1):\n",
        "          y = sample_y_Q2(k, l, img_random, img_bruitee, alpha_ising, beta_ising, mean_step)\n",
        "          img_random[k, l] = y\n",
        "          if y == 1:\n",
        "            probas[k,l] += 1\n",
        "          markov_blanket = [img_random[k - 1, l], img_random[k, l - 1], img_random[k, l + 1], img_random[k + 1, l], img_bruitee[k, l]]\n",
        "          somme_voisins = 0\n",
        "          for g in range(len(markov_blanket)):\n",
        "            if (img_random[k,l] == markov_blanket[g]):\n",
        "              somme_voisins+=1\n",
        "          fct_actuelle = lambda tau: 1/(tau**(gamma_inv+2))*math.exp(-1/(2*tau**2)*((img_random[k,l] - img_bruitee[k,l])**2) + beta_ising*somme_voisins - rho_inv/tau)\n",
        "          sim_tau[step][k, l] += metropolis_hastings(fct_actuelle, a, b, sim_tau[step-1][k, l], size=1)\n",
        "    img_random = 2*(probas/samplez >= 0.5) - 1 # Matrice des y déterminés par Gibbs\n",
        "    probas = np.zeros((height, length)) # Reset de la matrice probas (sinon l'image disparaît petit à petit)\n",
        "    sim_tau[step] = np.mean(sim_tau[step])*np.ones((height,length))/samplez\n",
        "    print(\"tau estimé :\", np.mean(sim_tau[step]))\n",
        "    img_random[img_random == 1] = 255\n",
        "    img_random[img_random == -1] = 0\n",
        "    img_random = np.array(img_random, dtype=np.int64) # image débruitée après l'étape step\n",
        "    print(\"distance entre images : \", np.mean(np.square(img_random - data))) # affiche la distance entre l'image débruitée générée et l'image originale\n",
        "    PIL_image2 = Image.fromarray(np.uint8(img_random)).convert('L')\n",
        "    display(PIL_image2)\n",
        "    img_random = 2*np.random.randint(2, size=(height,length)) - 1\n",
        "  return sim_tau\n",
        "\n",
        "debruiteur_Q2(bruit_test_norm, alpha_ising, beta_ising, gamma_inv, rho_inv, 100)"
      ],
      "metadata": {
        "colab": {
          "base_uri": "https://localhost:8080/",
          "height": 1000
        },
        "id": "r05ZU0T65U4d",
        "outputId": "400deaa7-c8a1-46bc-a98d-05f8de66f089"
      },
      "execution_count": 137,
      "outputs": [
        {
          "output_type": "stream",
          "name": "stdout",
          "text": [
            "tau estimé : 1.9058432890836206\n",
            "distance entre images :  15716.159111111112\n"
          ]
        },
        {
          "output_type": "display_data",
          "data": {
            "text/plain": [
              "<PIL.Image.Image image mode=L size=75x75 at 0x7F101C5FCED0>"
            ],
            "image/png": "[encoded data removed]"
          },
          "metadata": {}
        },
        {
          "output_type": "stream",
          "name": "stdout",
          "text": [
            "tau estimé : 1.816243806888981\n",
            "distance entre images :  23362.260444444444\n"
          ]
        },
        {
          "output_type": "display_data",
          "data": {
            "text/plain": [
              "<PIL.Image.Image image mode=L size=75x75 at 0x7F101C5FCF90>"
            ],
            "image/png": "[encoded data removed]"
          },
          "metadata": {}
        },
        {
          "output_type": "stream",
          "name": "stdout",
          "text": [
            "tau estimé : 1.7314537909805858\n",
            "distance entre images :  37394.785777777775\n"
          ]
        },
        {
          "output_type": "display_data",
          "data": {
            "text/plain": [
              "<PIL.Image.Image image mode=L size=75x75 at 0x7F101C5FCC50>"
            ],
            "image/png": "[encoded data removed]"
          },
          "metadata": {}
        },
        {
          "output_type": "stream",
          "name": "stdout",
          "text": [
            "tau estimé : 1.65048562638326\n",
            "distance entre images :  44339.80711111111\n"
          ]
        },
        {
          "output_type": "display_data",
          "data": {
            "text/plain": [
              "<PIL.Image.Image image mode=L size=75x75 at 0x7F101C5FCB50>"
            ],
            "image/png": "[encoded data removed]"
          },
          "metadata": {}
        },
        {
          "output_type": "stream",
          "name": "stdout",
          "text": [
            "tau estimé : 1.572794625189783\n",
            "distance entre images :  54803.64711111111\n"
          ]
        },
        {
          "output_type": "display_data",
          "data": {
            "text/plain": [
              "<PIL.Image.Image image mode=L size=75x75 at 0x7F101C5FCBD0>"
            ],
            "image/png": "[encoded data removed]"
          },
          "metadata": {}
        },
        {
          "output_type": "stream",
          "name": "stdout",
          "text": [
            "tau estimé : 1.5000124513389375\n",
            "distance entre images :  58553.03111111111\n"
          ]
        },
        {
          "output_type": "display_data",
          "data": {
            "text/plain": [
              "<PIL.Image.Image image mode=L size=75x75 at 0x7F101C5FCFD0>"
            ],
            "image/png": "[encoded data removed]"
          },
          "metadata": {}
        },
        {
          "output_type": "error",
          "ename": "KeyboardInterrupt",
          "evalue": "ignored",
          "traceback": [
            "\u001b[0;31m---------------------------------------------------------------------------\u001b[0m",
            "\u001b[0;31mKeyboardInterrupt\u001b[0m                         Traceback (most recent call last)",
            "\u001b[0;32m<ipython-input-137-621ad8024701>\u001b[0m in \u001b[0;36m<module>\u001b[0;34m()\u001b[0m\n\u001b[1;32m     65\u001b[0m   \u001b[0;32mreturn\u001b[0m \u001b[0msim_tau\u001b[0m\u001b[0;34m\u001b[0m\u001b[0;34m\u001b[0m\u001b[0m\n\u001b[1;32m     66\u001b[0m \u001b[0;34m\u001b[0m\u001b[0m\n\u001b[0;32m---> 67\u001b[0;31m \u001b[0mdebruiteur_Q2\u001b[0m\u001b[0;34m(\u001b[0m\u001b[0mbruit_test_norm\u001b[0m\u001b[0;34m,\u001b[0m \u001b[0malpha_ising\u001b[0m\u001b[0;34m,\u001b[0m \u001b[0mbeta_ising\u001b[0m\u001b[0;34m,\u001b[0m \u001b[0mgamma_inv\u001b[0m\u001b[0;34m,\u001b[0m \u001b[0mrho_inv\u001b[0m\u001b[0;34m,\u001b[0m \u001b[0;36m100\u001b[0m\u001b[0;34m)\u001b[0m\u001b[0;34m\u001b[0m\u001b[0;34m\u001b[0m\u001b[0m\n\u001b[0m",
            "\u001b[0;32m<ipython-input-137-621ad8024701>\u001b[0m in \u001b[0;36mdebruiteur_Q2\u001b[0;34m(img_bruitee, alpha_ising, beta_ising, gamma_inv, rho_inv, nbre_tirages)\u001b[0m\n\u001b[1;32m     41\u001b[0m       \u001b[0;32mfor\u001b[0m \u001b[0mk\u001b[0m \u001b[0;32min\u001b[0m \u001b[0mrange\u001b[0m\u001b[0;34m(\u001b[0m\u001b[0;36m1\u001b[0m\u001b[0;34m,\u001b[0m \u001b[0mimg_random\u001b[0m\u001b[0;34m.\u001b[0m\u001b[0mshape\u001b[0m\u001b[0;34m[\u001b[0m\u001b[0;36m0\u001b[0m\u001b[0;34m]\u001b[0m\u001b[0;34m-\u001b[0m\u001b[0;36m1\u001b[0m\u001b[0;34m)\u001b[0m\u001b[0;34m:\u001b[0m\u001b[0;34m\u001b[0m\u001b[0;34m\u001b[0m\u001b[0m\n\u001b[1;32m     42\u001b[0m         \u001b[0;32mfor\u001b[0m \u001b[0ml\u001b[0m \u001b[0;32min\u001b[0m \u001b[0mrange\u001b[0m\u001b[0;34m(\u001b[0m\u001b[0;36m1\u001b[0m\u001b[0;34m,\u001b[0m \u001b[0mimg_random\u001b[0m\u001b[0;34m.\u001b[0m\u001b[0mshape\u001b[0m\u001b[0;34m[\u001b[0m\u001b[0;36m1\u001b[0m\u001b[0;34m]\u001b[0m\u001b[0;34m-\u001b[0m\u001b[0;36m1\u001b[0m\u001b[0;34m)\u001b[0m\u001b[0;34m:\u001b[0m\u001b[0;34m\u001b[0m\u001b[0;34m\u001b[0m\u001b[0m\n\u001b[0;32m---> 43\u001b[0;31m           \u001b[0my\u001b[0m \u001b[0;34m=\u001b[0m \u001b[0msample_y_Q2\u001b[0m\u001b[0;34m(\u001b[0m\u001b[0mk\u001b[0m\u001b[0;34m,\u001b[0m \u001b[0ml\u001b[0m\u001b[0;34m,\u001b[0m \u001b[0mimg_random\u001b[0m\u001b[0;34m,\u001b[0m \u001b[0mimg_bruitee\u001b[0m\u001b[0;34m,\u001b[0m \u001b[0malpha_ising\u001b[0m\u001b[0;34m,\u001b[0m \u001b[0mbeta_ising\u001b[0m\u001b[0;34m,\u001b[0m \u001b[0mmean_step\u001b[0m\u001b[0;34m)\u001b[0m\u001b[0;34m\u001b[0m\u001b[0;34m\u001b[0m\u001b[0m\n\u001b[0m\u001b[1;32m     44\u001b[0m           \u001b[0mimg_random\u001b[0m\u001b[0;34m[\u001b[0m\u001b[0mk\u001b[0m\u001b[0;34m,\u001b[0m \u001b[0ml\u001b[0m\u001b[0;34m]\u001b[0m \u001b[0;34m=\u001b[0m \u001b[0my\u001b[0m\u001b[0;34m\u001b[0m\u001b[0;34m\u001b[0m\u001b[0m\n\u001b[1;32m     45\u001b[0m           \u001b[0;32mif\u001b[0m \u001b[0my\u001b[0m \u001b[0;34m==\u001b[0m \u001b[0;36m1\u001b[0m\u001b[0;34m:\u001b[0m\u001b[0;34m\u001b[0m\u001b[0;34m\u001b[0m\u001b[0m\n",
            "\u001b[0;32m<ipython-input-137-621ad8024701>\u001b[0m in \u001b[0;36msample_y_Q2\u001b[0;34m(i, j, Y, X, alpha, beta, tau)\u001b[0m\n\u001b[1;32m     12\u001b[0m     \u001b[0mw\u001b[0m \u001b[0;34m=\u001b[0m \u001b[0;34m(\u001b[0m\u001b[0;34m(\u001b[0m\u001b[0mmarkov_blanket\u001b[0m\u001b[0;34m[\u001b[0m\u001b[0;34m-\u001b[0m\u001b[0;36m1\u001b[0m\u001b[0;34m]\u001b[0m\u001b[0;34m-\u001b[0m\u001b[0;36m1\u001b[0m\u001b[0;34m)\u001b[0m\u001b[0;34m**\u001b[0m\u001b[0;36m2\u001b[0m\u001b[0;34m)\u001b[0m\u001b[0;34m/\u001b[0m\u001b[0;34m(\u001b[0m\u001b[0;36m2\u001b[0m\u001b[0;34m*\u001b[0m\u001b[0mtau\u001b[0m\u001b[0;34m**\u001b[0m\u001b[0;36m2\u001b[0m\u001b[0;34m)\u001b[0m \u001b[0;34m-\u001b[0m \u001b[0malpha\u001b[0m \u001b[0;34m+\u001b[0m \u001b[0mbeta\u001b[0m \u001b[0;34m*\u001b[0m \u001b[0msum\u001b[0m\u001b[0;34m(\u001b[0m\u001b[0mmarkov_blanket\u001b[0m\u001b[0;34m)\u001b[0m\u001b[0;34m\u001b[0m\u001b[0;34m\u001b[0m\u001b[0m\n\u001b[1;32m     13\u001b[0m     \u001b[0mw2\u001b[0m \u001b[0;34m=\u001b[0m \u001b[0;34m(\u001b[0m\u001b[0;34m(\u001b[0m\u001b[0mmarkov_blanket\u001b[0m\u001b[0;34m[\u001b[0m\u001b[0;34m-\u001b[0m\u001b[0;36m1\u001b[0m\u001b[0;34m]\u001b[0m\u001b[0;34m+\u001b[0m\u001b[0;36m1\u001b[0m\u001b[0;34m)\u001b[0m\u001b[0;34m**\u001b[0m\u001b[0;36m2\u001b[0m\u001b[0;34m)\u001b[0m\u001b[0;34m/\u001b[0m\u001b[0;34m(\u001b[0m\u001b[0;36m2\u001b[0m\u001b[0;34m*\u001b[0m\u001b[0mtau\u001b[0m\u001b[0;34m**\u001b[0m\u001b[0;36m2\u001b[0m\u001b[0;34m)\u001b[0m \u001b[0;34m+\u001b[0m \u001b[0malpha\u001b[0m \u001b[0;34m-\u001b[0m \u001b[0mbeta\u001b[0m \u001b[0;34m*\u001b[0m \u001b[0msum\u001b[0m\u001b[0;34m(\u001b[0m\u001b[0mmarkov_blanket\u001b[0m\u001b[0;34m)\u001b[0m\u001b[0;34m\u001b[0m\u001b[0;34m\u001b[0m\u001b[0m\n\u001b[0;32m---> 14\u001b[0;31m     \u001b[0mprob\u001b[0m \u001b[0;34m=\u001b[0m \u001b[0mnp\u001b[0m\u001b[0;34m.\u001b[0m\u001b[0mexp\u001b[0m\u001b[0;34m(\u001b[0m\u001b[0mw\u001b[0m\u001b[0;34m)\u001b[0m\u001b[0;34m/\u001b[0m\u001b[0;34m(\u001b[0m\u001b[0mnp\u001b[0m\u001b[0;34m.\u001b[0m\u001b[0mexp\u001b[0m\u001b[0;34m(\u001b[0m\u001b[0mw2\u001b[0m\u001b[0;34m)\u001b[0m \u001b[0;34m+\u001b[0m \u001b[0mnp\u001b[0m\u001b[0;34m.\u001b[0m\u001b[0mexp\u001b[0m\u001b[0;34m(\u001b[0m\u001b[0mw\u001b[0m\u001b[0;34m)\u001b[0m\u001b[0;34m)\u001b[0m\u001b[0;34m\u001b[0m\u001b[0;34m\u001b[0m\u001b[0m\n\u001b[0m\u001b[1;32m     15\u001b[0m     \u001b[0;32mreturn\u001b[0m \u001b[0;34m(\u001b[0m\u001b[0mnp\u001b[0m\u001b[0;34m.\u001b[0m\u001b[0mrandom\u001b[0m\u001b[0;34m.\u001b[0m\u001b[0mrand\u001b[0m\u001b[0;34m(\u001b[0m\u001b[0;34m)\u001b[0m \u001b[0;34m<\u001b[0m \u001b[0mprob\u001b[0m\u001b[0;34m)\u001b[0m \u001b[0;34m*\u001b[0m \u001b[0;36m2\u001b[0m \u001b[0;34m-\u001b[0m \u001b[0;36m1\u001b[0m\u001b[0;34m\u001b[0m\u001b[0;34m\u001b[0m\u001b[0m\n\u001b[1;32m     16\u001b[0m \u001b[0;34m\u001b[0m\u001b[0m\n",
            "\u001b[0;31mKeyboardInterrupt\u001b[0m: "
          ]
        }
      ]
    },
    {
      "cell_type": "code",
      "source": [
        "#Q2, a priori inverse-gamma (CODE DYSFONCTIONNEL)\n",
        "\n",
        "alpha_ising = 0\n",
        "beta_ising = 0.3\n",
        "gamma_inv = 0.1\n",
        "rho_inv = 0.1\n",
        "\n",
        "def sample_y_Q2(i, j, Y, X, alpha, beta, tau): #échantillon de P(x[i,j] | V(x[i,j])) (V[x[i,j]] contient les pixels adjacents à x[i,j], et contient y[i,j])\n",
        "    markov_blanket = [Y[i - 1, j], Y[i, j - 1], Y[i, j + 1], Y[i + 1, j], X[i, j]]\n",
        "    w = ((markov_blanket[-1]-1)**2)/(2*tau**2) - alpha + beta * sum(markov_blanket)\n",
        "    w2 = ((markov_blanket[-1]+1)**2)/(2*tau**2) + alpha - beta * sum(markov_blanket)\n",
        "    prob = np.exp(w)/(np.exp(w2) + np.exp(w))\n",
        "    return (np.random.rand() < prob) * 2 - 1\n",
        "\n",
        "def metropolis_hastings(target_density, a, b, tau_precedent, size=1):\n",
        "    burnin_size = 0\n",
        "    size += burnin_size\n",
        "    x0 = tau_precedent\n",
        "    xt = x0\n",
        "    samples = []\n",
        "    for i in range(size):\n",
        "        xt_candidate = np.random.normal(xt, 0.1)\n",
        "        accept_prob = (target_density(xt_candidate))/(target_density(xt))\n",
        "        if np.random.uniform(0, 1) < accept_prob:\n",
        "            xt = xt_candidate\n",
        "        samples.append(xt)\n",
        "        print()\n",
        "    return samples[0]\n",
        "\n",
        "def debruiteur_Q2(img_bruitee, alpha_ising, beta_ising, gamma_inv, rho_inv, nbre_tirages):\n",
        "  img_random = 2*np.random.randint(2, size=(270, 237))-1\n",
        "  somme_img = np.sum(img_bruitee)\n",
        "  a,b = img_random.shape\n",
        "  sim_tau = [1 for i in range(nbre_tirages)]\n",
        "  somme_voisins = 0\n",
        "  def pdf(img_generee, img_bruitee, alpha_ising, beta_ising, gamma_inv, rho_inv, tau_actuel, step, somme_img, somme_voisins):\n",
        "    pow = tau_actuel**(270*237+gamma_inv+1)\n",
        "    inv_tau_sq = 1/(2*tau_actuel**2)\n",
        "    print(tau_actuel)\n",
        "    print(np.sum(np.square(img_generee-img_bruitee)))\n",
        "    return (1/pow)*np.exp(-inv_tau_sq*np.sum(np.square(img_generee-img_bruitee)) + alpha_ising*somme_img + beta_ising*somme_voisins - rho_inv/tau_actuel)\n",
        "  def pdf_appliquee(tau_actuel):\n",
        "    return pdf(img_random, img_bruitee, alpha_ising, beta_ising, gamma_inv, rho_inv, tau_actuel, step, somme_img, somme_voisins)\n",
        "  for step in range(1, nbre_tirages):\n",
        "    for i in range(1, img_random.shape[0]-1):\n",
        "      for j in range(1, img_random.shape[1]-1):\n",
        "        y = sample_y_Q2(i, j, img_random, img_bruitee, alpha_ising, beta_ising, sim_tau[step-1])\n",
        "        img_random[i, j] = y\n",
        "        markov_blanket = [img_random[i - 1, j], img_random[i, j - 1], img_random[i, j + 1], img_random[i + 1, j], img_bruitee[i, j]]\n",
        "        somme_voisins = 0\n",
        "        for g in range(len(markov_blanket)):\n",
        "          if (img_random[i,j] == markov_blanket[g]):\n",
        "            somme_voisins+=1\n",
        "    sim_tau[step] = metropolis_hastings(pdf_appliquee, a, b, sim_tau[step-1], size=1)\n",
        "  return sim_tau\n",
        "\n",
        "debruiteur_Q2(bruit_test_norm, alpha_ising, beta_ising, gamma_inv, rho_inv, 100)"
      ],
      "metadata": {
        "id": "NKNrk0wDOg92"
      },
      "execution_count": null,
      "outputs": []
    },
    {
      "cell_type": "code",
      "source": [
        "data = np.array(data, dtype=np.int64)\n",
        "bruit_test = np.array(bruit_test, dtype=np.int64)\n",
        "np.mean(np.square(data - bruit_test))"
      ],
      "metadata": {
        "colab": {
          "base_uri": "https://localhost:8080/"
        },
        "id": "TChn4rTxdQSg",
        "outputId": "d50d435f-b703-45f1-c166-639b97a85c36"
      },
      "execution_count": 65,
      "outputs": [
        {
          "output_type": "execute_result",
          "data": {
            "text/plain": [
              "6052.955047062642"
            ]
          },
          "metadata": {},
          "execution_count": 65
        }
      ]
    },
    {
      "cell_type": "code",
      "source": [
        "#Q3\n",
        "# A prioris :\n",
        "# alpha ~ exp(theta) où theta grand\n",
        "# beta ~ Rayleigh(sigma)\n",
        "# tau ~ Inverse-Gamma(gamma, rho)\n",
        "# X ~ Ising(alpha, beta)\n",
        "\n",
        "import math\n",
        "\n",
        "gamma_inv = 3\n",
        "rho_inv = 0.5\n",
        "theta_exp = 0.5\n",
        "sigma_rayleigh = 2\n",
        "\n",
        "def sample_y_Q3(i, j, Y, X, alpha, beta, tau): #échantillon de P(x[i,j] | V(x[i,j])) (V[x[i,j]] contient les pixels adjacents à x[i,j], et contient y[i,j])\n",
        "    markov_blanket = [Y[i - 1, j], Y[i, j - 1], Y[i, j + 1], Y[i + 1, j], X[i, j]]\n",
        "    w = ((markov_blanket[-1]-1)**2)/(2*tau**2) - alpha + beta * sum(markov_blanket)\n",
        "    w2 = ((markov_blanket[-1]+1)**2)/(2*tau**2) + alpha - beta * sum(markov_blanket)\n",
        "    prob = np.exp(w)/(np.exp(w2) + np.exp(w))\n",
        "    return (np.random.rand() < prob) * 2 - 1\n",
        "\n",
        "def metropolis_hastings(target_density, a, b, tau_precedent, std_choice, size=1):\n",
        "    burnin_size = 0\n",
        "    size += burnin_size\n",
        "    x0 = tau_precedent\n",
        "    xt = x0\n",
        "    samples = []\n",
        "    for i in range(size):\n",
        "        xt_candidate = np.random.normal(xt, std_choice)\n",
        "        accept_prob = min((target_density(xt_candidate))/(target_density(xt)), 1)\n",
        "        if np.random.uniform(0, 1) < accept_prob:\n",
        "            xt = xt_candidate\n",
        "        samples.append(xt)\n",
        "    return samples[0]\n",
        "\n",
        "def debruiteur_Q3(img_bruitee, gamma_inv, rho_inv, theta_exp, sigma_rayleigh, nbre_tirages):\n",
        "  img_random = 2*np.random.randint(2, size=(height, length))-1\n",
        "  a,b = img_random.shape\n",
        "  sim_tau = [1.13*np.ones((height, length)) for i in range(nbre_tirages)]\n",
        "  sim_alpha = [0*np.ones((height, length)) for i in range(nbre_tirages)]\n",
        "  sim_beta = [0.3*np.ones((height, length)) for i in range(nbre_tirages)]\n",
        "  somme_voisins = 0\n",
        "  samplez = 50\n",
        "  probas = np.zeros((height, length))\n",
        "  for step in range(1, nbre_tirages):\n",
        "    mean_alpha=np.mean(sim_alpha[step-1])\n",
        "    mean_beta=np.mean(sim_beta[step-1])\n",
        "    mean_tau=np.mean(sim_tau[step-1])\n",
        "    sum_alpha, sum_beta, sum_tau = np.zeros((height, length)), np.zeros((height, length)), np.zeros((height, length))\n",
        "    for s in range(samplez):\n",
        "      sampled_alpha_copy, sampled_beta_copy, sampled_tau_copy = np.zeros((height, length)), np.zeros((height, length)), np.zeros((height, length))\n",
        "      for k in range(1, img_random.shape[0]-1):\n",
        "        for l in range(1, img_random.shape[1]-1):\n",
        "          y = sample_y_Q3(k, l, img_random, img_bruitee, mean_alpha, mean_beta, mean_tau)\n",
        "          img_random[k, l] = y\n",
        "          if y == 1:\n",
        "            probas[k,l] += 1\n",
        "          markov_blanket = [img_random[k - 1, l], img_random[k, l - 1], img_random[k, l + 1], img_random[k + 1, l], img_bruitee[k, l]]\n",
        "          somme_voisins = 0\n",
        "          for g in range(len(markov_blanket)):\n",
        "            if (img_random[k,l] == markov_blanket[g]):\n",
        "              somme_voisins+=1\n",
        "          densite_sampling_A = lambda A: np.exp(A*img_random[k,l] + sim_beta[step-1][k,l]*somme_voisins - 1/(2*sim_tau[step-1][k,l]**2)*(img_random[k,l] - img_bruitee[k,l])**2 - abs(A)/theta_exp)\n",
        "          sampled_alpha_copy[k, l] = metropolis_hastings(densite_sampling_A, a, b, sim_alpha[step-1][k,l], std_choice = 0, size=1)\n",
        "          sim_alpha[step][k, l] = sampled_alpha_copy[k, l]\n",
        "          densite_sampling_B = lambda B: np.exp(sim_alpha[step][k,l]*img_random[k,l] + B*somme_voisins - (-1/(2*sim_tau[step-1][k,l]**2)*(img_random[k,l] - img_bruitee[k,l])**2) - B**2/(2*sigma_rayleigh**2))*B\n",
        "          sampled_beta_copy[k, l] = metropolis_hastings(densite_sampling_B, a, b, sim_beta[step-1][k,l], std_choice = 0.1, size=1)\n",
        "          sim_beta[step][k, l] = sampled_beta_copy[k, l]\n",
        "          densite_sampling_tau = lambda tau: 1/(tau**(gamma_inv+2))*np.exp(-1/(2*tau**2)*((img_random[k,l] - img_bruitee[k,l])**2) + sim_beta[step][k,l]*somme_voisins + sim_alpha[step][k,l]*img_random[k,l] - rho_inv/tau)\n",
        "          sampled_tau_copy[k, l] = metropolis_hastings(densite_sampling_tau, a, b, sim_tau[step-1][k, l], std_choice=0.2, size=1)\n",
        "          sim_tau[step][k, l] = sampled_tau_copy[k, l]\n",
        "      sum_alpha += sampled_alpha_copy\n",
        "      sum_beta += sampled_beta_copy\n",
        "      sum_tau += sampled_tau_copy\n",
        "    img_random = 2*(probas/samplez <= 0.5) - 1 # Matrice des y déterminés par Gibbs\n",
        "    probas = np.zeros((height, length)) # Reset de la matrice probas (sinon l'image disparaît petit à petit)\n",
        "    sim_alpha[step] = sum_alpha*np.ones((height, length))/samplez\n",
        "    sim_beta[step] = sum_beta*np.ones((height, length))/samplez\n",
        "    sim_tau[step] = sum_tau*np.ones((height, length))/samplez\n",
        "    print(\"alpha estimé :\", np.mean(sim_alpha[step]))\n",
        "    print(\"beta estimé :\", np.mean(sim_beta[step]))\n",
        "    print(\"tau estimé :\", np.mean(sim_tau[step]))\n",
        "    img_random[img_random == 1] = 255\n",
        "    img_random[img_random == -1] = 0\n",
        "    img_random = np.array(img_random, dtype=np.int64) # image débruitée après l'étape step\n",
        "    print(\"distance entre images : \", np.mean(np.square(img_random - data))) # affiche la distance entre l'image débruitée générée et l'image originale\n",
        "    PIL_image2 = Image.fromarray(np.uint8(img_random)).convert('L')\n",
        "    display(PIL_image2)\n",
        "    img_random = 2*np.random.randint(2, size=(height, length)) - 1\n",
        "  return sim_tau, sim_beta, sim_alpha\n",
        "\n",
        "debruiteur_Q3(bruit_test_norm, alpha_ising, beta_ising, gamma_inv, rho_inv, 100)"
      ],
      "metadata": {
        "colab": {
          "base_uri": "https://localhost:8080/",
          "height": 1000
        },
        "id": "AWF9vWSOCo2q",
        "outputId": "3ae64c5c-ecfe-4cee-d45c-6d83db1620e4"
      },
      "execution_count": 121,
      "outputs": [
        {
          "output_type": "stream",
          "name": "stdout",
          "text": [
            "alpha estimé : -4.0952814711050994e-07\n",
            "beta estimé : 0.3041582079210952\n",
            "tau estimé : 1.0908393958178877\n",
            "distance entre images :  4419.999111111111\n"
          ]
        },
        {
          "output_type": "display_data",
          "data": {
            "text/plain": [
              "<PIL.Image.Image image mode=L size=75x75 at 0x7F101CAF3210>"
            ],
            "image/png": "[encoded data removed]"
          },
          "metadata": {}
        },
        {
          "output_type": "stream",
          "name": "stdout",
          "text": [
            "alpha estimé : 9.64951804194215e-06\n",
            "beta estimé : 0.3233486509391295\n",
            "tau estimé : 1.1107040514064666\n",
            "distance entre images :  4947.905777777778\n"
          ]
        },
        {
          "output_type": "display_data",
          "data": {
            "text/plain": [
              "<PIL.Image.Image image mode=L size=75x75 at 0x7F101C953410>"
            ],
            "image/png": "[encoded data removed]"
          },
          "metadata": {}
        },
        {
          "output_type": "stream",
          "name": "stdout",
          "text": [
            "alpha estimé : -4.015572714843342e-05\n",
            "beta estimé : 0.3417932090465844\n",
            "tau estimé : 1.12862146216946\n",
            "distance entre images :  3915.847111111111\n"
          ]
        },
        {
          "output_type": "display_data",
          "data": {
            "text/plain": [
              "<PIL.Image.Image image mode=L size=75x75 at 0x7F101CAF3950>"
            ],
            "image/png": "[encoded data removed]"
          },
          "metadata": {}
        },
        {
          "output_type": "stream",
          "name": "stdout",
          "text": [
            "alpha estimé : -3.5423833984435686e-05\n",
            "beta estimé : 0.35977803654888535\n",
            "tau estimé : 1.143444246512523\n",
            "distance entre images :  3223.335111111111\n"
          ]
        },
        {
          "output_type": "display_data",
          "data": {
            "text/plain": [
              "<PIL.Image.Image image mode=L size=75x75 at 0x7F101C9419D0>"
            ],
            "image/png": "[encoded data removed]"
          },
          "metadata": {}
        },
        {
          "output_type": "stream",
          "name": "stdout",
          "text": [
            "alpha estimé : -4.6315893937131234e-05\n",
            "beta estimé : 0.37710654235963287\n",
            "tau estimé : 1.157346469318379\n",
            "distance entre images :  2734.097777777778\n"
          ]
        },
        {
          "output_type": "display_data",
          "data": {
            "text/plain": [
              "<PIL.Image.Image image mode=L size=75x75 at 0x7F101CB69510>"
            ],
            "image/png": "[encoded data removed]"
          },
          "metadata": {}
        },
        {
          "output_type": "stream",
          "name": "stdout",
          "text": [
            "alpha estimé : -7.237911121368459e-05\n",
            "beta estimé : 0.39398841923262773\n",
            "tau estimé : 1.1698933251271222\n",
            "distance entre images :  2807.855111111111\n"
          ]
        },
        {
          "output_type": "display_data",
          "data": {
            "text/plain": [
              "<PIL.Image.Image image mode=L size=75x75 at 0x7F101CAF3550>"
            ],
            "image/png": "[encoded data removed]"
          },
          "metadata": {}
        },
        {
          "output_type": "stream",
          "name": "stdout",
          "text": [
            "alpha estimé : -0.00010954007307757989\n",
            "beta estimé : 0.4104836819452284\n",
            "tau estimé : 1.1806867600735647\n",
            "distance entre images :  2548.3217777777777\n"
          ]
        },
        {
          "output_type": "display_data",
          "data": {
            "text/plain": [
              "<PIL.Image.Image image mode=L size=75x75 at 0x7F101C9535D0>"
            ],
            "image/png": "[encoded data removed]"
          },
          "metadata": {}
        },
        {
          "output_type": "stream",
          "name": "stdout",
          "text": [
            "alpha estimé : -0.00013817262358885814\n",
            "beta estimé : 0.4265218455992639\n",
            "tau estimé : 1.1910333717806436\n",
            "distance entre images :  2583.5911111111113\n"
          ]
        },
        {
          "output_type": "display_data",
          "data": {
            "text/plain": [
              "<PIL.Image.Image image mode=L size=75x75 at 0x7F101CB69A10>"
            ],
            "image/png": "[encoded data removed]"
          },
          "metadata": {}
        },
        {
          "output_type": "stream",
          "name": "stdout",
          "text": [
            "alpha estimé : -0.00016769924656465448\n",
            "beta estimé : 0.4424909953152384\n",
            "tau estimé : 1.1994018777335693\n",
            "distance entre images :  3157.465777777778\n"
          ]
        },
        {
          "output_type": "display_data",
          "data": {
            "text/plain": [
              "<PIL.Image.Image image mode=L size=75x75 at 0x7F101C953E10>"
            ],
            "image/png": "[encoded data removed]"
          },
          "metadata": {}
        },
        {
          "output_type": "stream",
          "name": "stdout",
          "text": [
            "alpha estimé : -0.0002118779803920401\n",
            "beta estimé : 0.4577645237591627\n",
            "tau estimé : 1.20654066917612\n",
            "distance entre images :  3529.607111111111\n"
          ]
        },
        {
          "output_type": "display_data",
          "data": {
            "text/plain": [
              "<PIL.Image.Image image mode=L size=75x75 at 0x7F101C9137D0>"
            ],
            "image/png": "[encoded data removed]"
          },
          "metadata": {}
        },
        {
          "output_type": "stream",
          "name": "stdout",
          "text": [
            "alpha estimé : -0.00026276773123258963\n",
            "beta estimé : 0.4727907402147133\n",
            "tau estimé : 1.213197125876841\n",
            "distance entre images :  5150.817777777777\n"
          ]
        },
        {
          "output_type": "display_data",
          "data": {
            "text/plain": [
              "<PIL.Image.Image image mode=L size=75x75 at 0x7F101C953210>"
            ],
            "image/png": "[encoded data removed]"
          },
          "metadata": {}
        },
        {
          "output_type": "stream",
          "name": "stdout",
          "text": [
            "alpha estimé : -0.00028247968101298865\n",
            "beta estimé : 0.48758151303912683\n",
            "tau estimé : 1.2188436428652396\n",
            "distance entre images :  4554.639111111112\n"
          ]
        },
        {
          "output_type": "display_data",
          "data": {
            "text/plain": [
              "<PIL.Image.Image image mode=L size=75x75 at 0x7F101CB69E90>"
            ],
            "image/png": "[encoded data removed]"
          },
          "metadata": {}
        },
        {
          "output_type": "stream",
          "name": "stdout",
          "text": [
            "alpha estimé : -0.00034488436651277884\n",
            "beta estimé : 0.5021532081432131\n",
            "tau estimé : 1.2243059729268244\n",
            "distance entre images :  6340.999111111111\n"
          ]
        },
        {
          "output_type": "display_data",
          "data": {
            "text/plain": [
              "<PIL.Image.Image image mode=L size=75x75 at 0x7F101C953310>"
            ],
            "image/png": "[encoded data removed]"
          },
          "metadata": {}
        },
        {
          "output_type": "stream",
          "name": "stdout",
          "text": [
            "alpha estimé : -0.00036270264933956195\n",
            "beta estimé : 0.5163509465185747\n",
            "tau estimé : 1.2291352447647288\n",
            "distance entre images :  5650.164444444445\n"
          ]
        },
        {
          "output_type": "display_data",
          "data": {
            "text/plain": [
              "<PIL.Image.Image image mode=L size=75x75 at 0x7F101C956790>"
            ],
            "image/png": "[encoded data removed]"
          },
          "metadata": {}
        },
        {
          "output_type": "stream",
          "name": "stdout",
          "text": [
            "alpha estimé : -0.00041219550279791514\n",
            "beta estimé : 0.5303123436508703\n",
            "tau estimé : 1.2329720411112577\n",
            "distance entre images :  7287.604444444444\n"
          ]
        },
        {
          "output_type": "display_data",
          "data": {
            "text/plain": [
              "<PIL.Image.Image image mode=L size=75x75 at 0x7F101C4EEDD0>"
            ],
            "image/png": "[encoded data removed]"
          },
          "metadata": {}
        },
        {
          "output_type": "stream",
          "name": "stdout",
          "text": [
            "alpha estimé : -0.00047560567501260667\n",
            "beta estimé : 0.5440219873562632\n",
            "tau estimé : 1.2362167627490175\n",
            "distance entre images :  8453.985777777778\n"
          ]
        },
        {
          "output_type": "display_data",
          "data": {
            "text/plain": [
              "<PIL.Image.Image image mode=L size=75x75 at 0x7F101CAF32D0>"
            ],
            "image/png": "[encoded data removed]"
          },
          "metadata": {}
        },
        {
          "output_type": "stream",
          "name": "stdout",
          "text": [
            "alpha estimé : -0.0004981687900385447\n",
            "beta estimé : 0.5574119867607201\n",
            "tau estimé : 1.237675192915131\n",
            "distance entre images :  11294.345777777778\n"
          ]
        },
        {
          "output_type": "display_data",
          "data": {
            "text/plain": [
              "<PIL.Image.Image image mode=L size=75x75 at 0x7F101CB69350>"
            ],
            "image/png": "[encoded data removed]"
          },
          "metadata": {}
        },
        {
          "output_type": "stream",
          "name": "stdout",
          "text": [
            "alpha estimé : -0.000556671627801054\n",
            "beta estimé : 0.5706205430184729\n",
            "tau estimé : 1.239442380683312\n",
            "distance entre images :  8981.212444444445\n"
          ]
        },
        {
          "output_type": "display_data",
          "data": {
            "text/plain": [
              "<PIL.Image.Image image mode=L size=75x75 at 0x7F101C956FD0>"
            ],
            "image/png": "[encoded data removed]"
          },
          "metadata": {}
        },
        {
          "output_type": "stream",
          "name": "stdout",
          "text": [
            "alpha estimé : -0.0005878765451190636\n",
            "beta estimé : 0.5836235322400801\n",
            "tau estimé : 1.2396242060683014\n",
            "distance entre images :  19780.33777777778\n"
          ]
        },
        {
          "output_type": "display_data",
          "data": {
            "text/plain": [
              "<PIL.Image.Image image mode=L size=75x75 at 0x7F101C941290>"
            ],
            "image/png": "[encoded data removed]"
          },
          "metadata": {}
        },
        {
          "output_type": "stream",
          "name": "stdout",
          "text": [
            "alpha estimé : -0.0006213411041857767\n",
            "beta estimé : 0.5959803842039213\n",
            "tau estimé : 1.240470057982781\n",
            "distance entre images :  16692.956444444444\n"
          ]
        },
        {
          "output_type": "display_data",
          "data": {
            "text/plain": [
              "<PIL.Image.Image image mode=L size=75x75 at 0x7F101C913810>"
            ],
            "image/png": "[encoded data removed]"
          },
          "metadata": {}
        },
        {
          "output_type": "stream",
          "name": "stdout",
          "text": [
            "alpha estimé : -0.0006306848161157235\n",
            "beta estimé : 0.6082151473355958\n",
            "tau estimé : 1.2403036278003217\n",
            "distance entre images :  16521.596444444443\n"
          ]
        },
        {
          "output_type": "display_data",
          "data": {
            "text/plain": [
              "<PIL.Image.Image image mode=L size=75x75 at 0x7F101C953350>"
            ],
            "image/png": "[encoded data removed]"
          },
          "metadata": {}
        },
        {
          "output_type": "stream",
          "name": "stdout",
          "text": [
            "alpha estimé : -0.0006495487233777207\n",
            "beta estimé : 0.620734474430117\n",
            "tau estimé : 1.24037301853054\n",
            "distance entre images :  21788.196444444446\n"
          ]
        },
        {
          "output_type": "display_data",
          "data": {
            "text/plain": [
              "<PIL.Image.Image image mode=L size=75x75 at 0x7F101C4EEF10>"
            ],
            "image/png": "[encoded data removed]"
          },
          "metadata": {}
        },
        {
          "output_type": "stream",
          "name": "stdout",
          "text": [
            "alpha estimé : -0.0006558615068499512\n",
            "beta estimé : 0.6329592833700007\n",
            "tau estimé : 1.2398199296954115\n",
            "distance entre images :  25350.716444444446\n"
          ]
        },
        {
          "output_type": "display_data",
          "data": {
            "text/plain": [
              "<PIL.Image.Image image mode=L size=75x75 at 0x7F101CAF3F50>"
            ],
            "image/png": "[encoded data removed]"
          },
          "metadata": {}
        },
        {
          "output_type": "stream",
          "name": "stdout",
          "text": [
            "alpha estimé : -0.0006628229910453424\n",
            "beta estimé : 0.6448585640067485\n",
            "tau estimé : 1.2390049640043606\n",
            "distance entre images :  29446.53777777778\n"
          ]
        },
        {
          "output_type": "display_data",
          "data": {
            "text/plain": [
              "<PIL.Image.Image image mode=L size=75x75 at 0x7F101CB69CD0>"
            ],
            "image/png": "[encoded data removed]"
          },
          "metadata": {}
        },
        {
          "output_type": "stream",
          "name": "stdout",
          "text": [
            "alpha estimé : -0.0006599536549824266\n",
            "beta estimé : 0.656444000077893\n",
            "tau estimé : 1.2388366762883363\n",
            "distance entre images :  24062.751111111113\n"
          ]
        },
        {
          "output_type": "display_data",
          "data": {
            "text/plain": [
              "<PIL.Image.Image image mode=L size=75x75 at 0x7F101C4EEB50>"
            ],
            "image/png": "[encoded data removed]"
          },
          "metadata": {}
        },
        {
          "output_type": "stream",
          "name": "stdout",
          "text": [
            "alpha estimé : -0.0006391672353997962\n",
            "beta estimé : 0.6680211122147672\n",
            "tau estimé : 1.2372900662369812\n",
            "distance entre images :  29806.529777777778\n"
          ]
        },
        {
          "output_type": "display_data",
          "data": {
            "text/plain": [
              "<PIL.Image.Image image mode=L size=75x75 at 0x7F101C4EEC10>"
            ],
            "image/png": "[encoded data removed]"
          },
          "metadata": {}
        },
        {
          "output_type": "stream",
          "name": "stdout",
          "text": [
            "alpha estimé : -0.0005953562943057287\n",
            "beta estimé : 0.6795562658434169\n",
            "tau estimé : 1.2350797784135286\n",
            "distance entre images :  35698.548444444445\n"
          ]
        },
        {
          "output_type": "display_data",
          "data": {
            "text/plain": [
              "<PIL.Image.Image image mode=L size=75x75 at 0x7F101C9130D0>"
            ],
            "image/png": "[encoded data removed]"
          },
          "metadata": {}
        },
        {
          "output_type": "stream",
          "name": "stdout",
          "text": [
            "alpha estimé : -0.0006016352933586848\n",
            "beta estimé : 0.690831257015278\n",
            "tau estimé : 1.2334521517879902\n",
            "distance entre images :  32812.991111111114\n"
          ]
        },
        {
          "output_type": "display_data",
          "data": {
            "text/plain": [
              "<PIL.Image.Image image mode=L size=75x75 at 0x7F101CB69350>"
            ],
            "image/png": "[encoded data removed]"
          },
          "metadata": {}
        },
        {
          "output_type": "stream",
          "name": "stdout",
          "text": [
            "alpha estimé : -0.0005911093993345975\n",
            "beta estimé : 0.7018885077354126\n",
            "tau estimé : 1.2312167100875522\n",
            "distance entre images :  38946.31911111111\n"
          ]
        },
        {
          "output_type": "display_data",
          "data": {
            "text/plain": [
              "<PIL.Image.Image image mode=L size=75x75 at 0x7F101CAF3C90>"
            ],
            "image/png": "[encoded data removed]"
          },
          "metadata": {}
        },
        {
          "output_type": "stream",
          "name": "stdout",
          "text": [
            "alpha estimé : -0.0005525337588437811\n",
            "beta estimé : 0.7128687825969174\n",
            "tau estimé : 1.2289264801476305\n",
            "distance entre images :  38577.124444444446\n"
          ]
        },
        {
          "output_type": "display_data",
          "data": {
            "text/plain": [
              "<PIL.Image.Image image mode=L size=75x75 at 0x7F101C9564D0>"
            ],
            "image/png": "[encoded data removed]"
          },
          "metadata": {}
        },
        {
          "output_type": "stream",
          "name": "stdout",
          "text": [
            "alpha estimé : -0.000554048652181721\n",
            "beta estimé : 0.7236366999962073\n",
            "tau estimé : 1.227212692958328\n",
            "distance entre images :  32741.772444444443\n"
          ]
        },
        {
          "output_type": "display_data",
          "data": {
            "text/plain": [
              "<PIL.Image.Image image mode=L size=75x75 at 0x7F101C953A10>"
            ],
            "image/png": "[encoded data removed]"
          },
          "metadata": {}
        },
        {
          "output_type": "stream",
          "name": "stdout",
          "text": [
            "alpha estimé : -0.000566124509690342\n",
            "beta estimé : 0.7341188045129418\n",
            "tau estimé : 1.22435366240948\n",
            "distance entre images :  36238.64977777778\n"
          ]
        },
        {
          "output_type": "display_data",
          "data": {
            "text/plain": [
              "<PIL.Image.Image image mode=L size=75x75 at 0x7F101C941590>"
            ],
            "image/png": "[encoded data removed]"
          },
          "metadata": {}
        },
        {
          "output_type": "stream",
          "name": "stdout",
          "text": [
            "alpha estimé : -0.0005196241348333923\n",
            "beta estimé : 0.7440433748107748\n",
            "tau estimé : 1.223149616316934\n",
            "distance entre images :  33901.26311111111\n"
          ]
        },
        {
          "output_type": "display_data",
          "data": {
            "text/plain": [
              "<PIL.Image.Image image mode=L size=75x75 at 0x7F101C9137D0>"
            ],
            "image/png": "[encoded data removed]"
          },
          "metadata": {}
        },
        {
          "output_type": "stream",
          "name": "stdout",
          "text": [
            "alpha estimé : -0.0004939218573194499\n",
            "beta estimé : 0.7540892710815102\n",
            "tau estimé : 1.220194502165895\n",
            "distance entre images :  41579.188444444444\n"
          ]
        },
        {
          "output_type": "display_data",
          "data": {
            "text/plain": [
              "<PIL.Image.Image image mode=L size=75x75 at 0x7F101C913290>"
            ],
            "image/png": "[encoded data removed]"
          },
          "metadata": {}
        },
        {
          "output_type": "stream",
          "name": "stdout",
          "text": [
            "alpha estimé : -0.0004641151376251124\n",
            "beta estimé : 0.7643718420800786\n",
            "tau estimé : 1.21563573859183\n",
            "distance entre images :  45529.53511111111\n"
          ]
        },
        {
          "output_type": "display_data",
          "data": {
            "text/plain": [
              "<PIL.Image.Image image mode=L size=75x75 at 0x7F101C941550>"
            ],
            "image/png": "[encoded data removed]"
          },
          "metadata": {}
        },
        {
          "output_type": "stream",
          "name": "stdout",
          "text": [
            "alpha estimé : -0.0004396350753021805\n",
            "beta estimé : 0.7743496650454116\n",
            "tau estimé : 1.2135818756782735\n",
            "distance entre images :  39862.732444444446\n"
          ]
        },
        {
          "output_type": "display_data",
          "data": {
            "text/plain": [
              "<PIL.Image.Image image mode=L size=75x75 at 0x7F101CB69E90>"
            ],
            "image/png": "[encoded data removed]"
          },
          "metadata": {}
        },
        {
          "output_type": "stream",
          "name": "stdout",
          "text": [
            "alpha estimé : -0.0004097966003518385\n",
            "beta estimé : 0.7843842388310279\n",
            "tau estimé : 1.2091000820236413\n",
            "distance entre images :  45789.52177777778\n"
          ]
        },
        {
          "output_type": "display_data",
          "data": {
            "text/plain": [
              "<PIL.Image.Image image mode=L size=75x75 at 0x7F101C9537D0>"
            ],
            "image/png": "[encoded data removed]"
          },
          "metadata": {}
        },
        {
          "output_type": "stream",
          "name": "stdout",
          "text": [
            "alpha estimé : -0.0003676676971574157\n",
            "beta estimé : 0.7939815591893276\n",
            "tau estimé : 1.205344165624613\n",
            "distance entre images :  42090.04977777778\n"
          ]
        },
        {
          "output_type": "display_data",
          "data": {
            "text/plain": [
              "<PIL.Image.Image image mode=L size=75x75 at 0x7F101CAF3210>"
            ],
            "image/png": "[encoded data removed]"
          },
          "metadata": {}
        },
        {
          "output_type": "stream",
          "name": "stdout",
          "text": [
            "alpha estimé : -0.0003136004732627035\n",
            "beta estimé : 0.8032426348687858\n",
            "tau estimé : 1.2013460818260298\n",
            "distance entre images :  41592.96977777778\n"
          ]
        },
        {
          "output_type": "display_data",
          "data": {
            "text/plain": [
              "<PIL.Image.Image image mode=L size=75x75 at 0x7F101C4EEB50>"
            ],
            "image/png": "[encoded data removed]"
          },
          "metadata": {}
        },
        {
          "output_type": "stream",
          "name": "stdout",
          "text": [
            "alpha estimé : -0.00028848628455894\n",
            "beta estimé : 0.812692729029462\n",
            "tau estimé : 1.1967293802875816\n",
            "distance entre images :  42178.177777777775\n"
          ]
        },
        {
          "output_type": "display_data",
          "data": {
            "text/plain": [
              "<PIL.Image.Image image mode=L size=75x75 at 0x7F101CAF3490>"
            ],
            "image/png": "[encoded data removed]"
          },
          "metadata": {}
        },
        {
          "output_type": "stream",
          "name": "stdout",
          "text": [
            "alpha estimé : -0.00023137702404956627\n",
            "beta estimé : 0.8218064705447109\n",
            "tau estimé : 1.1913028249652668\n",
            "distance entre images :  46323.04977777778\n"
          ]
        },
        {
          "output_type": "display_data",
          "data": {
            "text/plain": [
              "<PIL.Image.Image image mode=L size=75x75 at 0x7F101CAF3E90>"
            ],
            "image/png": "[encoded data removed]"
          },
          "metadata": {}
        },
        {
          "output_type": "stream",
          "name": "stdout",
          "text": [
            "alpha estimé : -0.000191090513892767\n",
            "beta estimé : 0.8308243557950933\n",
            "tau estimé : 1.1862482758276178\n",
            "distance entre images :  46548.71911111111\n"
          ]
        },
        {
          "output_type": "display_data",
          "data": {
            "text/plain": [
              "<PIL.Image.Image image mode=L size=75x75 at 0x7F101C941990>"
            ],
            "image/png": "[encoded data removed]"
          },
          "metadata": {}
        },
        {
          "output_type": "stream",
          "name": "stdout",
          "text": [
            "alpha estimé : -0.00016975010070600433\n",
            "beta estimé : 0.8396519840376134\n",
            "tau estimé : 1.181548315441626\n",
            "distance entre images :  44941.10844444444\n"
          ]
        },
        {
          "output_type": "display_data",
          "data": {
            "text/plain": [
              "<PIL.Image.Image image mode=L size=75x75 at 0x7F101C9418D0>"
            ],
            "image/png": "[encoded data removed]"
          },
          "metadata": {}
        },
        {
          "output_type": "stream",
          "name": "stdout",
          "text": [
            "alpha estimé : -0.0001785612326161822\n",
            "beta estimé : 0.8478905887408495\n",
            "tau estimé : 1.1761763188995826\n",
            "distance entre images :  45415.65777777778\n"
          ]
        },
        {
          "output_type": "display_data",
          "data": {
            "text/plain": [
              "<PIL.Image.Image image mode=L size=75x75 at 0x7F101C9534D0>"
            ],
            "image/png": "[encoded data removed]"
          },
          "metadata": {}
        },
        {
          "output_type": "stream",
          "name": "stdout",
          "text": [
            "alpha estimé : -0.00018068695098774572\n",
            "beta estimé : 0.8559085186119408\n",
            "tau estimé : 1.1729391709026935\n",
            "distance entre images :  39080.50577777778\n"
          ]
        },
        {
          "output_type": "display_data",
          "data": {
            "text/plain": [
              "<PIL.Image.Image image mode=L size=75x75 at 0x7F101C941950>"
            ],
            "image/png": "[encoded data removed]"
          },
          "metadata": {}
        },
        {
          "output_type": "stream",
          "name": "stdout",
          "text": [
            "alpha estimé : -0.00014009344576657192\n",
            "beta estimé : 0.8640202894296845\n",
            "tau estimé : 1.1686719053473107\n",
            "distance entre images :  41838.13244444445\n"
          ]
        },
        {
          "output_type": "display_data",
          "data": {
            "text/plain": [
              "<PIL.Image.Image image mode=L size=75x75 at 0x7F101CB69B90>"
            ],
            "image/png": "[encoded data removed]"
          },
          "metadata": {}
        },
        {
          "output_type": "stream",
          "name": "stdout",
          "text": [
            "alpha estimé : -0.00010337313757612496\n",
            "beta estimé : 0.8723048385770255\n",
            "tau estimé : 1.1618349547680906\n",
            "distance entre images :  46525.281777777775\n"
          ]
        },
        {
          "output_type": "display_data",
          "data": {
            "text/plain": [
              "<PIL.Image.Image image mode=L size=75x75 at 0x7F101C956C10>"
            ],
            "image/png": "[encoded data removed]"
          },
          "metadata": {}
        },
        {
          "output_type": "stream",
          "name": "stdout",
          "text": [
            "alpha estimé : -9.109558544586768e-05\n",
            "beta estimé : 0.8801276192129383\n",
            "tau estimé : 1.1571734216770349\n",
            "distance entre images :  43758.86044444444\n"
          ]
        },
        {
          "output_type": "display_data",
          "data": {
            "text/plain": [
              "<PIL.Image.Image image mode=L size=75x75 at 0x7F101CAF3C50>"
            ],
            "image/png": "[encoded data removed]"
          },
          "metadata": {}
        },
        {
          "output_type": "stream",
          "name": "stdout",
          "text": [
            "alpha estimé : -5.286784150761909e-05\n",
            "beta estimé : 0.8877434165362518\n",
            "tau estimé : 1.1515811232753344\n",
            "distance entre images :  45409.40177777778\n"
          ]
        },
        {
          "output_type": "display_data",
          "data": {
            "text/plain": [
              "<PIL.Image.Image image mode=L size=75x75 at 0x7F101C913D10>"
            ],
            "image/png": "[encoded data removed]"
          },
          "metadata": {}
        },
        {
          "output_type": "stream",
          "name": "stdout",
          "text": [
            "alpha estimé : -4.0706224234077174e-05\n",
            "beta estimé : 0.895361739025696\n",
            "tau estimé : 1.1460355784447758\n",
            "distance entre images :  45391.90311111111\n"
          ]
        },
        {
          "output_type": "display_data",
          "data": {
            "text/plain": [
              "<PIL.Image.Image image mode=L size=75x75 at 0x7F101C956E90>"
            ],
            "image/png": "[encoded data removed]"
          },
          "metadata": {}
        },
        {
          "output_type": "stream",
          "name": "stdout",
          "text": [
            "alpha estimé : -2.732929386718897e-05\n",
            "beta estimé : 0.9025338210975823\n",
            "tau estimé : 1.1433344046456013\n",
            "distance entre images :  41510.10044444445\n"
          ]
        },
        {
          "output_type": "display_data",
          "data": {
            "text/plain": [
              "<PIL.Image.Image image mode=L size=75x75 at 0x7F101C9137D0>"
            ],
            "image/png": "[encoded data removed]"
          },
          "metadata": {}
        },
        {
          "output_type": "stream",
          "name": "stdout",
          "text": [
            "alpha estimé : -8.936949970208697e-06\n",
            "beta estimé : 0.9098594541084263\n",
            "tau estimé : 1.1414622577025668\n",
            "distance entre images :  38133.311111111114\n"
          ]
        },
        {
          "output_type": "display_data",
          "data": {
            "text/plain": [
              "<PIL.Image.Image image mode=L size=75x75 at 0x7F101C4EED50>"
            ],
            "image/png": "[encoded data removed]"
          },
          "metadata": {}
        },
        {
          "output_type": "stream",
          "name": "stdout",
          "text": [
            "alpha estimé : 2.955610328470964e-07\n",
            "beta estimé : 0.9170940452825261\n",
            "tau estimé : 1.1352833921377161\n",
            "distance entre images :  46592.14844444444\n"
          ]
        },
        {
          "output_type": "display_data",
          "data": {
            "text/plain": [
              "<PIL.Image.Image image mode=L size=75x75 at 0x7F101C9561D0>"
            ],
            "image/png": "[encoded data removed]"
          },
          "metadata": {}
        },
        {
          "output_type": "stream",
          "name": "stdout",
          "text": [
            "alpha estimé : 5.7840433244154184e-05\n",
            "beta estimé : 0.9242955103945371\n",
            "tau estimé : 1.1304208498527235\n",
            "distance entre images :  42622.217777777776\n"
          ]
        },
        {
          "output_type": "display_data",
          "data": {
            "text/plain": [
              "<PIL.Image.Image image mode=L size=75x75 at 0x7F101C913890>"
            ],
            "image/png": "[encoded data removed]"
          },
          "metadata": {}
        },
        {
          "output_type": "stream",
          "name": "stdout",
          "text": [
            "alpha estimé : 9.827529160823569e-05\n",
            "beta estimé : 0.9312450109852362\n",
            "tau estimé : 1.1236775676495008\n",
            "distance entre images :  47893.804444444446\n"
          ]
        },
        {
          "output_type": "display_data",
          "data": {
            "text/plain": [
              "<PIL.Image.Image image mode=L size=75x75 at 0x7F101C913350>"
            ],
            "image/png": "[encoded data removed]"
          },
          "metadata": {}
        },
        {
          "output_type": "stream",
          "name": "stdout",
          "text": [
            "alpha estimé : 0.0001389168259016773\n",
            "beta estimé : 0.9379570799026281\n",
            "tau estimé : 1.1196272978787454\n",
            "distance entre images :  41763.01511111111\n"
          ]
        },
        {
          "output_type": "display_data",
          "data": {
            "text/plain": [
              "<PIL.Image.Image image mode=L size=75x75 at 0x7F101C956CD0>"
            ],
            "image/png": "[encoded data removed]"
          },
          "metadata": {}
        },
        {
          "output_type": "stream",
          "name": "stdout",
          "text": [
            "alpha estimé : 0.0001564433064735296\n",
            "beta estimé : 0.9447147605099796\n",
            "tau estimé : 1.1157695924879392\n",
            "distance entre images :  43129.044444444444\n"
          ]
        },
        {
          "output_type": "display_data",
          "data": {
            "text/plain": [
              "<PIL.Image.Image image mode=L size=75x75 at 0x7F101CAF3A90>"
            ],
            "image/png": "[encoded data removed]"
          },
          "metadata": {}
        },
        {
          "output_type": "stream",
          "name": "stdout",
          "text": [
            "alpha estimé : 0.00019832678469663582\n",
            "beta estimé : 0.9512750070753304\n",
            "tau estimé : 1.1091484708585466\n",
            "distance entre images :  48117.07111111111\n"
          ]
        },
        {
          "output_type": "display_data",
          "data": {
            "text/plain": [
              "<PIL.Image.Image image mode=L size=75x75 at 0x7F101CB69DD0>"
            ],
            "image/png": "[encoded data removed]"
          },
          "metadata": {}
        },
        {
          "output_type": "stream",
          "name": "stdout",
          "text": [
            "alpha estimé : 0.00021556595343247986\n",
            "beta estimé : 0.9575318113287411\n",
            "tau estimé : 1.106498348303849\n",
            "distance entre images :  41971.91111111111\n"
          ]
        },
        {
          "output_type": "display_data",
          "data": {
            "text/plain": [
              "<PIL.Image.Image image mode=L size=75x75 at 0x7F101C4EEC10>"
            ],
            "image/png": "[encoded data removed]"
          },
          "metadata": {}
        },
        {
          "output_type": "stream",
          "name": "stdout",
          "text": [
            "alpha estimé : 0.0002335729097903539\n",
            "beta estimé : 0.9634396655722317\n",
            "tau estimé : 1.102472956439273\n",
            "distance entre images :  42182.80177777778\n"
          ]
        },
        {
          "output_type": "display_data",
          "data": {
            "text/plain": [
              "<PIL.Image.Image image mode=L size=75x75 at 0x7F101C941E50>"
            ],
            "image/png": "[encoded data removed]"
          },
          "metadata": {}
        },
        {
          "output_type": "stream",
          "name": "stdout",
          "text": [
            "alpha estimé : 0.000246807062167494\n",
            "beta estimé : 0.9692573629078964\n",
            "tau estimé : 1.097650858540237\n",
            "distance entre images :  44145.05511111111\n"
          ]
        },
        {
          "output_type": "display_data",
          "data": {
            "text/plain": [
              "<PIL.Image.Image image mode=L size=75x75 at 0x7F101C4EEF50>"
            ],
            "image/png": "[encoded data removed]"
          },
          "metadata": {}
        },
        {
          "output_type": "stream",
          "name": "stdout",
          "text": [
            "alpha estimé : 0.0002696713016073917\n",
            "beta estimé : 0.9748877980553234\n",
            "tau estimé : 1.0945152616027007\n",
            "distance entre images :  42319.25511111111\n"
          ]
        },
        {
          "output_type": "display_data",
          "data": {
            "text/plain": [
              "<PIL.Image.Image image mode=L size=75x75 at 0x7F101C953E10>"
            ],
            "image/png": "[encoded data removed]"
          },
          "metadata": {}
        },
        {
          "output_type": "stream",
          "name": "stdout",
          "text": [
            "alpha estimé : 0.0002532695516775715\n",
            "beta estimé : 0.9804547422815305\n",
            "tau estimé : 1.088889639631217\n",
            "distance entre images :  44842.508444444444\n"
          ]
        },
        {
          "output_type": "display_data",
          "data": {
            "text/plain": [
              "<PIL.Image.Image image mode=L size=75x75 at 0x7F101CAF3990>"
            ],
            "image/png": "[encoded data removed]"
          },
          "metadata": {}
        },
        {
          "output_type": "stream",
          "name": "stdout",
          "text": [
            "alpha estimé : 0.0003052729815504926\n",
            "beta estimé : 0.9868757210201201\n",
            "tau estimé : 1.0815318126004936\n",
            "distance entre images :  46058.620444444445\n"
          ]
        },
        {
          "output_type": "display_data",
          "data": {
            "text/plain": [
              "<PIL.Image.Image image mode=L size=75x75 at 0x7F101C4EEF50>"
            ],
            "image/png": "[encoded data removed]"
          },
          "metadata": {}
        },
        {
          "output_type": "stream",
          "name": "stderr",
          "text": [
            "/usr/local/lib/python3.7/dist-packages/ipykernel_launcher.py:69: RuntimeWarning: overflow encountered in exp\n"
          ]
        },
        {
          "output_type": "stream",
          "name": "stdout",
          "text": [
            "alpha estimé : 0.0002934403874088189\n",
            "beta estimé : 0.9922751236095029\n",
            "tau estimé : 1.0788336305236115\n",
            "distance entre images :  39956.980444444445\n"
          ]
        },
        {
          "output_type": "display_data",
          "data": {
            "text/plain": [
              "<PIL.Image.Image image mode=L size=75x75 at 0x7F101C913F90>"
            ],
            "image/png": "[encoded data removed]"
          },
          "metadata": {}
        },
        {
          "output_type": "stream",
          "name": "stdout",
          "text": [
            "alpha estimé : 0.00032993331914297434\n",
            "beta estimé : 0.9980762315317859\n",
            "tau estimé : 1.0718064945558436\n",
            "distance entre images :  47422.92711111111\n"
          ]
        },
        {
          "output_type": "display_data",
          "data": {
            "text/plain": [
              "<PIL.Image.Image image mode=L size=75x75 at 0x7F101CB69DD0>"
            ],
            "image/png": "[encoded data removed]"
          },
          "metadata": {}
        },
        {
          "output_type": "stream",
          "name": "stdout",
          "text": [
            "alpha estimé : 0.0003512512910955911\n",
            "beta estimé : 1.003334899643742\n",
            "tau estimé : 1.066726210533421\n",
            "distance entre images :  43383.455111111114\n"
          ]
        },
        {
          "output_type": "display_data",
          "data": {
            "text/plain": [
              "<PIL.Image.Image image mode=L size=75x75 at 0x7F101CB69510>"
            ],
            "image/png": "[encoded data removed]"
          },
          "metadata": {}
        },
        {
          "output_type": "stream",
          "name": "stdout",
          "text": [
            "alpha estimé : 0.00036404006128204345\n",
            "beta estimé : 1.0081421268429565\n",
            "tau estimé : 1.064437928095691\n",
            "distance entre images :  39813.31911111111\n"
          ]
        },
        {
          "output_type": "display_data",
          "data": {
            "text/plain": [
              "<PIL.Image.Image image mode=L size=75x75 at 0x7F101CAF35D0>"
            ],
            "image/png": "[encoded data removed]"
          },
          "metadata": {}
        },
        {
          "output_type": "stream",
          "name": "stdout",
          "text": [
            "alpha estimé : 0.0004087282437917284\n",
            "beta estimé : 1.0131665594566925\n",
            "tau estimé : 1.062965125404519\n",
            "distance entre images :  39244.97511111111\n"
          ]
        },
        {
          "output_type": "display_data",
          "data": {
            "text/plain": [
              "<PIL.Image.Image image mode=L size=75x75 at 0x7F101C941490>"
            ],
            "image/png": "[encoded data removed]"
          },
          "metadata": {}
        },
        {
          "output_type": "stream",
          "name": "stdout",
          "text": [
            "alpha estimé : 0.000460127936116642\n",
            "beta estimé : 1.017788589900046\n",
            "tau estimé : 1.0617664813686785\n",
            "distance entre images :  37990.96444444444\n"
          ]
        },
        {
          "output_type": "display_data",
          "data": {
            "text/plain": [
              "<PIL.Image.Image image mode=L size=75x75 at 0x7F101C4EED50>"
            ],
            "image/png": "[encoded data removed]"
          },
          "metadata": {}
        },
        {
          "output_type": "stream",
          "name": "stdout",
          "text": [
            "alpha estimé : 0.0004940263662874025\n",
            "beta estimé : 1.0225294199291233\n",
            "tau estimé : 1.0566580786153972\n",
            "distance entre images :  44082.177777777775\n"
          ]
        },
        {
          "output_type": "display_data",
          "data": {
            "text/plain": [
              "<PIL.Image.Image image mode=L size=75x75 at 0x7F101C9130D0>"
            ],
            "image/png": "[encoded data removed]"
          },
          "metadata": {}
        },
        {
          "output_type": "stream",
          "name": "stdout",
          "text": [
            "alpha estimé : 0.0005362337274829829\n",
            "beta estimé : 1.0269818209306474\n",
            "tau estimé : 1.051837869875664\n",
            "distance entre images :  44313.55911111111\n"
          ]
        },
        {
          "output_type": "display_data",
          "data": {
            "text/plain": [
              "<PIL.Image.Image image mode=L size=75x75 at 0x7F101CB69DD0>"
            ],
            "image/png": "[encoded data removed]"
          },
          "metadata": {}
        },
        {
          "output_type": "stream",
          "name": "stdout",
          "text": [
            "alpha estimé : 0.0005582026677765769\n",
            "beta estimé : 1.0314158242887175\n",
            "tau estimé : 1.0509671076738794\n",
            "distance entre images :  38364.96444444444\n"
          ]
        },
        {
          "output_type": "display_data",
          "data": {
            "text/plain": [
              "<PIL.Image.Image image mode=L size=75x75 at 0x7F101C4EED50>"
            ],
            "image/png": "[encoded data removed]"
          },
          "metadata": {}
        },
        {
          "output_type": "stream",
          "name": "stdout",
          "text": [
            "alpha estimé : 0.0005644730539662594\n",
            "beta estimé : 1.0359980416355796\n",
            "tau estimé : 1.0468706708531348\n",
            "distance entre images :  42914.93511111111\n"
          ]
        },
        {
          "output_type": "display_data",
          "data": {
            "text/plain": [
              "<PIL.Image.Image image mode=L size=75x75 at 0x7F101CB69210>"
            ],
            "image/png": "[encoded data removed]"
          },
          "metadata": {}
        },
        {
          "output_type": "stream",
          "name": "stdout",
          "text": [
            "alpha estimé : 0.0005698963530323862\n",
            "beta estimé : 1.0399728813992384\n",
            "tau estimé : 1.046283756111529\n",
            "distance entre images :  37190.105777777775\n"
          ]
        },
        {
          "output_type": "display_data",
          "data": {
            "text/plain": [
              "<PIL.Image.Image image mode=L size=75x75 at 0x7F101CAF3950>"
            ],
            "image/png": "[encoded data removed]"
          },
          "metadata": {}
        },
        {
          "output_type": "stream",
          "name": "stdout",
          "text": [
            "alpha estimé : 0.0005604610236105757\n",
            "beta estimé : 1.044170127425239\n",
            "tau estimé : 1.0421483441985535\n",
            "distance entre images :  42796.47911111111\n"
          ]
        },
        {
          "output_type": "display_data",
          "data": {
            "text/plain": [
              "<PIL.Image.Image image mode=L size=75x75 at 0x7F101C956210>"
            ],
            "image/png": "[encoded data removed]"
          },
          "metadata": {}
        },
        {
          "output_type": "stream",
          "name": "stdout",
          "text": [
            "alpha estimé : 0.0005917598653736531\n",
            "beta estimé : 1.0481096640569805\n",
            "tau estimé : 1.0393650425019438\n",
            "distance entre images :  42933.703111111114\n"
          ]
        },
        {
          "output_type": "display_data",
          "data": {
            "text/plain": [
              "<PIL.Image.Image image mode=L size=75x75 at 0x7F101C9131D0>"
            ],
            "image/png": "[encoded data removed]"
          },
          "metadata": {}
        },
        {
          "output_type": "stream",
          "name": "stdout",
          "text": [
            "alpha estimé : 0.0006349051345818092\n",
            "beta estimé : 1.051825584639635\n",
            "tau estimé : 1.0370262148310252\n",
            "distance entre images :  40255.40977777778\n"
          ]
        },
        {
          "output_type": "display_data",
          "data": {
            "text/plain": [
              "<PIL.Image.Image image mode=L size=75x75 at 0x7F101C941F10>"
            ],
            "image/png": "[encoded data removed]"
          },
          "metadata": {}
        },
        {
          "output_type": "stream",
          "name": "stdout",
          "text": [
            "alpha estimé : 0.0006527975263013456\n",
            "beta estimé : 1.05561837243086\n",
            "tau estimé : 1.0365051414879136\n",
            "distance entre images :  38771.69511111111\n"
          ]
        },
        {
          "output_type": "display_data",
          "data": {
            "text/plain": [
              "<PIL.Image.Image image mode=L size=75x75 at 0x7F101C913990>"
            ],
            "image/png": "[encoded data removed]"
          },
          "metadata": {}
        },
        {
          "output_type": "stream",
          "name": "stdout",
          "text": [
            "alpha estimé : 0.0006475867879729634\n",
            "beta estimé : 1.0593489166250167\n",
            "tau estimé : 1.0355712621962356\n",
            "distance entre images :  39676.412444444446\n"
          ]
        },
        {
          "output_type": "display_data",
          "data": {
            "text/plain": [
              "<PIL.Image.Image image mode=L size=75x75 at 0x7F101C953A90>"
            ],
            "image/png": "[encoded data removed]"
          },
          "metadata": {}
        },
        {
          "output_type": "stream",
          "name": "stdout",
          "text": [
            "alpha estimé : 0.0006973230075788982\n",
            "beta estimé : 1.0631909961442145\n",
            "tau estimé : 1.0306948500826056\n",
            "distance entre images :  43826.67911111111\n"
          ]
        },
        {
          "output_type": "display_data",
          "data": {
            "text/plain": [
              "<PIL.Image.Image image mode=L size=75x75 at 0x7F101C4EEA90>"
            ],
            "image/png": "[encoded data removed]"
          },
          "metadata": {}
        },
        {
          "output_type": "stream",
          "name": "stdout",
          "text": [
            "alpha estimé : 0.0007393600603445656\n",
            "beta estimé : 1.0668399019935497\n",
            "tau estimé : 1.0243785083768389\n",
            "distance entre images :  43975.281777777775\n"
          ]
        },
        {
          "output_type": "display_data",
          "data": {
            "text/plain": [
              "<PIL.Image.Image image mode=L size=75x75 at 0x7F101C941150>"
            ],
            "image/png": "[encoded data removed]"
          },
          "metadata": {}
        },
        {
          "output_type": "stream",
          "name": "stderr",
          "text": [
            "/usr/local/lib/python3.7/dist-packages/ipykernel_launcher.py:30: RuntimeWarning: invalid value encountered in double_scalars\n",
            "/usr/local/lib/python3.7/dist-packages/ipykernel_launcher.py:66: RuntimeWarning: overflow encountered in exp\n",
            "/usr/local/lib/python3.7/dist-packages/ipykernel_launcher.py:30: RuntimeWarning: divide by zero encountered in double_scalars\n"
          ]
        },
        {
          "output_type": "stream",
          "name": "stdout",
          "text": [
            "alpha estimé : 0.0007400586270641614\n",
            "beta estimé : 1.0706059320338774\n",
            "tau estimé : 1.0193929353550037\n",
            "distance entre images :  43450.36711111111\n"
          ]
        },
        {
          "output_type": "display_data",
          "data": {
            "text/plain": [
              "<PIL.Image.Image image mode=L size=75x75 at 0x7F101C956E10>"
            ],
            "image/png": "[encoded data removed]"
          },
          "metadata": {}
        },
        {
          "output_type": "stream",
          "name": "stdout",
          "text": [
            "alpha estimé : 0.0007403252286716975\n",
            "beta estimé : 1.0738341206663757\n",
            "tau estimé : 1.0198433689232456\n",
            "distance entre images :  38076.961777777775\n"
          ]
        },
        {
          "output_type": "display_data",
          "data": {
            "text/plain": [
              "<PIL.Image.Image image mode=L size=75x75 at 0x7F101C953C50>"
            ],
            "image/png": "[encoded data removed]"
          },
          "metadata": {}
        },
        {
          "output_type": "error",
          "ename": "KeyboardInterrupt",
          "evalue": "ignored",
          "traceback": [
            "\u001b[0;31m---------------------------------------------------------------------------\u001b[0m",
            "\u001b[0;31mKeyboardInterrupt\u001b[0m                         Traceback (most recent call last)",
            "\u001b[0;32m<ipython-input-121-f79b6c9cafa0>\u001b[0m in \u001b[0;36m<module>\u001b[0;34m()\u001b[0m\n\u001b[1;32m     90\u001b[0m   \u001b[0;32mreturn\u001b[0m \u001b[0msim_tau\u001b[0m\u001b[0;34m,\u001b[0m \u001b[0msim_beta\u001b[0m\u001b[0;34m,\u001b[0m \u001b[0msim_alpha\u001b[0m\u001b[0;34m\u001b[0m\u001b[0;34m\u001b[0m\u001b[0m\n\u001b[1;32m     91\u001b[0m \u001b[0;34m\u001b[0m\u001b[0m\n\u001b[0;32m---> 92\u001b[0;31m \u001b[0mdebruiteur_Q3\u001b[0m\u001b[0;34m(\u001b[0m\u001b[0mbruit_test_norm\u001b[0m\u001b[0;34m,\u001b[0m \u001b[0malpha_ising\u001b[0m\u001b[0;34m,\u001b[0m \u001b[0mbeta_ising\u001b[0m\u001b[0;34m,\u001b[0m \u001b[0mgamma_inv\u001b[0m\u001b[0;34m,\u001b[0m \u001b[0mrho_inv\u001b[0m\u001b[0;34m,\u001b[0m \u001b[0;36m100\u001b[0m\u001b[0;34m)\u001b[0m\u001b[0;34m\u001b[0m\u001b[0;34m\u001b[0m\u001b[0m\n\u001b[0m",
            "\u001b[0;32m<ipython-input-121-f79b6c9cafa0>\u001b[0m in \u001b[0;36mdebruiteur_Q3\u001b[0;34m(img_bruitee, gamma_inv, rho_inv, theta_exp, sigma_rayleigh, nbre_tirages)\u001b[0m\n\u001b[1;32m     62\u001b[0m               \u001b[0msomme_voisins\u001b[0m\u001b[0;34m+=\u001b[0m\u001b[0;36m1\u001b[0m\u001b[0;34m\u001b[0m\u001b[0;34m\u001b[0m\u001b[0m\n\u001b[1;32m     63\u001b[0m           \u001b[0mdensite_sampling_A\u001b[0m \u001b[0;34m=\u001b[0m \u001b[0;32mlambda\u001b[0m \u001b[0mA\u001b[0m\u001b[0;34m:\u001b[0m \u001b[0mnp\u001b[0m\u001b[0;34m.\u001b[0m\u001b[0mexp\u001b[0m\u001b[0;34m(\u001b[0m\u001b[0mA\u001b[0m\u001b[0;34m*\u001b[0m\u001b[0mimg_random\u001b[0m\u001b[0;34m[\u001b[0m\u001b[0mk\u001b[0m\u001b[0;34m,\u001b[0m\u001b[0ml\u001b[0m\u001b[0;34m]\u001b[0m \u001b[0;34m+\u001b[0m \u001b[0msim_beta\u001b[0m\u001b[0;34m[\u001b[0m\u001b[0mstep\u001b[0m\u001b[0;34m-\u001b[0m\u001b[0;36m1\u001b[0m\u001b[0;34m]\u001b[0m\u001b[0;34m[\u001b[0m\u001b[0mk\u001b[0m\u001b[0;34m,\u001b[0m\u001b[0ml\u001b[0m\u001b[0;34m]\u001b[0m\u001b[0;34m*\u001b[0m\u001b[0msomme_voisins\u001b[0m \u001b[0;34m-\u001b[0m \u001b[0;36m1\u001b[0m\u001b[0;34m/\u001b[0m\u001b[0;34m(\u001b[0m\u001b[0;36m2\u001b[0m\u001b[0;34m*\u001b[0m\u001b[0msim_tau\u001b[0m\u001b[0;34m[\u001b[0m\u001b[0mstep\u001b[0m\u001b[0;34m-\u001b[0m\u001b[0;36m1\u001b[0m\u001b[0;34m]\u001b[0m\u001b[0;34m[\u001b[0m\u001b[0mk\u001b[0m\u001b[0;34m,\u001b[0m\u001b[0ml\u001b[0m\u001b[0;34m]\u001b[0m\u001b[0;34m**\u001b[0m\u001b[0;36m2\u001b[0m\u001b[0;34m)\u001b[0m\u001b[0;34m*\u001b[0m\u001b[0;34m(\u001b[0m\u001b[0mimg_random\u001b[0m\u001b[0;34m[\u001b[0m\u001b[0mk\u001b[0m\u001b[0;34m,\u001b[0m\u001b[0ml\u001b[0m\u001b[0;34m]\u001b[0m \u001b[0;34m-\u001b[0m \u001b[0mimg_bruitee\u001b[0m\u001b[0;34m[\u001b[0m\u001b[0mk\u001b[0m\u001b[0;34m,\u001b[0m\u001b[0ml\u001b[0m\u001b[0;34m]\u001b[0m\u001b[0;34m)\u001b[0m\u001b[0;34m**\u001b[0m\u001b[0;36m2\u001b[0m \u001b[0;34m-\u001b[0m \u001b[0mabs\u001b[0m\u001b[0;34m(\u001b[0m\u001b[0mA\u001b[0m\u001b[0;34m)\u001b[0m\u001b[0;34m/\u001b[0m\u001b[0mtheta_exp\u001b[0m\u001b[0;34m)\u001b[0m\u001b[0;34m\u001b[0m\u001b[0;34m\u001b[0m\u001b[0m\n\u001b[0;32m---> 64\u001b[0;31m           \u001b[0msampled_alpha_copy\u001b[0m\u001b[0;34m[\u001b[0m\u001b[0mk\u001b[0m\u001b[0;34m,\u001b[0m \u001b[0ml\u001b[0m\u001b[0;34m]\u001b[0m \u001b[0;34m=\u001b[0m \u001b[0mmetropolis_hastings\u001b[0m\u001b[0;34m(\u001b[0m\u001b[0mdensite_sampling_A\u001b[0m\u001b[0;34m,\u001b[0m \u001b[0ma\u001b[0m\u001b[0;34m,\u001b[0m \u001b[0mb\u001b[0m\u001b[0;34m,\u001b[0m \u001b[0msim_alpha\u001b[0m\u001b[0;34m[\u001b[0m\u001b[0mstep\u001b[0m\u001b[0;34m-\u001b[0m\u001b[0;36m1\u001b[0m\u001b[0;34m]\u001b[0m\u001b[0;34m[\u001b[0m\u001b[0mk\u001b[0m\u001b[0;34m,\u001b[0m\u001b[0ml\u001b[0m\u001b[0;34m]\u001b[0m\u001b[0;34m,\u001b[0m \u001b[0mstd_choice\u001b[0m \u001b[0;34m=\u001b[0m \u001b[0;36m0.01\u001b[0m\u001b[0;34m,\u001b[0m \u001b[0msize\u001b[0m\u001b[0;34m=\u001b[0m\u001b[0;36m1\u001b[0m\u001b[0;34m)\u001b[0m\u001b[0;34m\u001b[0m\u001b[0;34m\u001b[0m\u001b[0m\n\u001b[0m\u001b[1;32m     65\u001b[0m           \u001b[0msim_alpha\u001b[0m\u001b[0;34m[\u001b[0m\u001b[0mstep\u001b[0m\u001b[0;34m]\u001b[0m\u001b[0;34m[\u001b[0m\u001b[0mk\u001b[0m\u001b[0;34m,\u001b[0m \u001b[0ml\u001b[0m\u001b[0;34m]\u001b[0m \u001b[0;34m=\u001b[0m \u001b[0msampled_alpha_copy\u001b[0m\u001b[0;34m[\u001b[0m\u001b[0mk\u001b[0m\u001b[0;34m,\u001b[0m \u001b[0ml\u001b[0m\u001b[0;34m]\u001b[0m\u001b[0;34m\u001b[0m\u001b[0;34m\u001b[0m\u001b[0m\n\u001b[1;32m     66\u001b[0m           \u001b[0mdensite_sampling_B\u001b[0m \u001b[0;34m=\u001b[0m \u001b[0;32mlambda\u001b[0m \u001b[0mB\u001b[0m\u001b[0;34m:\u001b[0m \u001b[0mnp\u001b[0m\u001b[0;34m.\u001b[0m\u001b[0mexp\u001b[0m\u001b[0;34m(\u001b[0m\u001b[0msim_alpha\u001b[0m\u001b[0;34m[\u001b[0m\u001b[0mstep\u001b[0m\u001b[0;34m]\u001b[0m\u001b[0;34m[\u001b[0m\u001b[0mk\u001b[0m\u001b[0;34m,\u001b[0m\u001b[0ml\u001b[0m\u001b[0;34m]\u001b[0m\u001b[0;34m*\u001b[0m\u001b[0mimg_random\u001b[0m\u001b[0;34m[\u001b[0m\u001b[0mk\u001b[0m\u001b[0;34m,\u001b[0m\u001b[0ml\u001b[0m\u001b[0;34m]\u001b[0m \u001b[0;34m+\u001b[0m \u001b[0mB\u001b[0m\u001b[0;34m*\u001b[0m\u001b[0msomme_voisins\u001b[0m \u001b[0;34m-\u001b[0m \u001b[0;34m(\u001b[0m\u001b[0;34m-\u001b[0m\u001b[0;36m1\u001b[0m\u001b[0;34m/\u001b[0m\u001b[0;34m(\u001b[0m\u001b[0;36m2\u001b[0m\u001b[0;34m*\u001b[0m\u001b[0msim_tau\u001b[0m\u001b[0;34m[\u001b[0m\u001b[0mstep\u001b[0m\u001b[0;34m-\u001b[0m\u001b[0;36m1\u001b[0m\u001b[0;34m]\u001b[0m\u001b[0;34m[\u001b[0m\u001b[0mk\u001b[0m\u001b[0;34m,\u001b[0m\u001b[0ml\u001b[0m\u001b[0;34m]\u001b[0m\u001b[0;34m**\u001b[0m\u001b[0;36m2\u001b[0m\u001b[0;34m)\u001b[0m\u001b[0;34m*\u001b[0m\u001b[0;34m(\u001b[0m\u001b[0mimg_random\u001b[0m\u001b[0;34m[\u001b[0m\u001b[0mk\u001b[0m\u001b[0;34m,\u001b[0m\u001b[0ml\u001b[0m\u001b[0;34m]\u001b[0m \u001b[0;34m-\u001b[0m \u001b[0mimg_bruitee\u001b[0m\u001b[0;34m[\u001b[0m\u001b[0mk\u001b[0m\u001b[0;34m,\u001b[0m\u001b[0ml\u001b[0m\u001b[0;34m]\u001b[0m\u001b[0;34m)\u001b[0m\u001b[0;34m**\u001b[0m\u001b[0;36m2\u001b[0m\u001b[0;34m)\u001b[0m \u001b[0;34m-\u001b[0m \u001b[0mB\u001b[0m\u001b[0;34m**\u001b[0m\u001b[0;36m2\u001b[0m\u001b[0;34m/\u001b[0m\u001b[0;34m(\u001b[0m\u001b[0;36m2\u001b[0m\u001b[0;34m*\u001b[0m\u001b[0msigma_rayleigh\u001b[0m\u001b[0;34m**\u001b[0m\u001b[0;36m2\u001b[0m\u001b[0;34m)\u001b[0m\u001b[0;34m)\u001b[0m\u001b[0;34m*\u001b[0m\u001b[0mB\u001b[0m\u001b[0;34m\u001b[0m\u001b[0;34m\u001b[0m\u001b[0m\n",
            "\u001b[0;32m<ipython-input-121-f79b6c9cafa0>\u001b[0m in \u001b[0;36mmetropolis_hastings\u001b[0;34m(target_density, a, b, tau_precedent, std_choice, size)\u001b[0m\n\u001b[1;32m     28\u001b[0m     \u001b[0;32mfor\u001b[0m \u001b[0mi\u001b[0m \u001b[0;32min\u001b[0m \u001b[0mrange\u001b[0m\u001b[0;34m(\u001b[0m\u001b[0msize\u001b[0m\u001b[0;34m)\u001b[0m\u001b[0;34m:\u001b[0m\u001b[0;34m\u001b[0m\u001b[0;34m\u001b[0m\u001b[0m\n\u001b[1;32m     29\u001b[0m         \u001b[0mxt_candidate\u001b[0m \u001b[0;34m=\u001b[0m \u001b[0mnp\u001b[0m\u001b[0;34m.\u001b[0m\u001b[0mrandom\u001b[0m\u001b[0;34m.\u001b[0m\u001b[0mnormal\u001b[0m\u001b[0;34m(\u001b[0m\u001b[0mxt\u001b[0m\u001b[0;34m,\u001b[0m \u001b[0mstd_choice\u001b[0m\u001b[0;34m)\u001b[0m\u001b[0;34m\u001b[0m\u001b[0;34m\u001b[0m\u001b[0m\n\u001b[0;32m---> 30\u001b[0;31m         \u001b[0maccept_prob\u001b[0m \u001b[0;34m=\u001b[0m \u001b[0mmin\u001b[0m\u001b[0;34m(\u001b[0m\u001b[0;34m(\u001b[0m\u001b[0mtarget_density\u001b[0m\u001b[0;34m(\u001b[0m\u001b[0mxt_candidate\u001b[0m\u001b[0;34m)\u001b[0m\u001b[0;34m)\u001b[0m\u001b[0;34m/\u001b[0m\u001b[0;34m(\u001b[0m\u001b[0mtarget_density\u001b[0m\u001b[0;34m(\u001b[0m\u001b[0mxt\u001b[0m\u001b[0;34m)\u001b[0m\u001b[0;34m)\u001b[0m\u001b[0;34m,\u001b[0m \u001b[0;36m1\u001b[0m\u001b[0;34m)\u001b[0m\u001b[0;34m\u001b[0m\u001b[0;34m\u001b[0m\u001b[0m\n\u001b[0m\u001b[1;32m     31\u001b[0m         \u001b[0;32mif\u001b[0m \u001b[0mnp\u001b[0m\u001b[0;34m.\u001b[0m\u001b[0mrandom\u001b[0m\u001b[0;34m.\u001b[0m\u001b[0muniform\u001b[0m\u001b[0;34m(\u001b[0m\u001b[0;36m0\u001b[0m\u001b[0;34m,\u001b[0m \u001b[0;36m1\u001b[0m\u001b[0;34m)\u001b[0m \u001b[0;34m<\u001b[0m \u001b[0maccept_prob\u001b[0m\u001b[0;34m:\u001b[0m\u001b[0;34m\u001b[0m\u001b[0;34m\u001b[0m\u001b[0m\n\u001b[1;32m     32\u001b[0m             \u001b[0mxt\u001b[0m \u001b[0;34m=\u001b[0m \u001b[0mxt_candidate\u001b[0m\u001b[0;34m\u001b[0m\u001b[0;34m\u001b[0m\u001b[0m\n",
            "\u001b[0;32m<ipython-input-121-f79b6c9cafa0>\u001b[0m in \u001b[0;36m<lambda>\u001b[0;34m(A)\u001b[0m\n\u001b[1;32m     61\u001b[0m             \u001b[0;32mif\u001b[0m \u001b[0;34m(\u001b[0m\u001b[0mimg_random\u001b[0m\u001b[0;34m[\u001b[0m\u001b[0mk\u001b[0m\u001b[0;34m,\u001b[0m\u001b[0ml\u001b[0m\u001b[0;34m]\u001b[0m \u001b[0;34m==\u001b[0m \u001b[0mmarkov_blanket\u001b[0m\u001b[0;34m[\u001b[0m\u001b[0mg\u001b[0m\u001b[0;34m]\u001b[0m\u001b[0;34m)\u001b[0m\u001b[0;34m:\u001b[0m\u001b[0;34m\u001b[0m\u001b[0;34m\u001b[0m\u001b[0m\n\u001b[1;32m     62\u001b[0m               \u001b[0msomme_voisins\u001b[0m\u001b[0;34m+=\u001b[0m\u001b[0;36m1\u001b[0m\u001b[0;34m\u001b[0m\u001b[0;34m\u001b[0m\u001b[0m\n\u001b[0;32m---> 63\u001b[0;31m           \u001b[0mdensite_sampling_A\u001b[0m \u001b[0;34m=\u001b[0m \u001b[0;32mlambda\u001b[0m \u001b[0mA\u001b[0m\u001b[0;34m:\u001b[0m \u001b[0mnp\u001b[0m\u001b[0;34m.\u001b[0m\u001b[0mexp\u001b[0m\u001b[0;34m(\u001b[0m\u001b[0mA\u001b[0m\u001b[0;34m*\u001b[0m\u001b[0mimg_random\u001b[0m\u001b[0;34m[\u001b[0m\u001b[0mk\u001b[0m\u001b[0;34m,\u001b[0m\u001b[0ml\u001b[0m\u001b[0;34m]\u001b[0m \u001b[0;34m+\u001b[0m \u001b[0msim_beta\u001b[0m\u001b[0;34m[\u001b[0m\u001b[0mstep\u001b[0m\u001b[0;34m-\u001b[0m\u001b[0;36m1\u001b[0m\u001b[0;34m]\u001b[0m\u001b[0;34m[\u001b[0m\u001b[0mk\u001b[0m\u001b[0;34m,\u001b[0m\u001b[0ml\u001b[0m\u001b[0;34m]\u001b[0m\u001b[0;34m*\u001b[0m\u001b[0msomme_voisins\u001b[0m \u001b[0;34m-\u001b[0m \u001b[0;36m1\u001b[0m\u001b[0;34m/\u001b[0m\u001b[0;34m(\u001b[0m\u001b[0;36m2\u001b[0m\u001b[0;34m*\u001b[0m\u001b[0msim_tau\u001b[0m\u001b[0;34m[\u001b[0m\u001b[0mstep\u001b[0m\u001b[0;34m-\u001b[0m\u001b[0;36m1\u001b[0m\u001b[0;34m]\u001b[0m\u001b[0;34m[\u001b[0m\u001b[0mk\u001b[0m\u001b[0;34m,\u001b[0m\u001b[0ml\u001b[0m\u001b[0;34m]\u001b[0m\u001b[0;34m**\u001b[0m\u001b[0;36m2\u001b[0m\u001b[0;34m)\u001b[0m\u001b[0;34m*\u001b[0m\u001b[0;34m(\u001b[0m\u001b[0mimg_random\u001b[0m\u001b[0;34m[\u001b[0m\u001b[0mk\u001b[0m\u001b[0;34m,\u001b[0m\u001b[0ml\u001b[0m\u001b[0;34m]\u001b[0m \u001b[0;34m-\u001b[0m \u001b[0mimg_bruitee\u001b[0m\u001b[0;34m[\u001b[0m\u001b[0mk\u001b[0m\u001b[0;34m,\u001b[0m\u001b[0ml\u001b[0m\u001b[0;34m]\u001b[0m\u001b[0;34m)\u001b[0m\u001b[0;34m**\u001b[0m\u001b[0;36m2\u001b[0m \u001b[0;34m-\u001b[0m \u001b[0mabs\u001b[0m\u001b[0;34m(\u001b[0m\u001b[0mA\u001b[0m\u001b[0;34m)\u001b[0m\u001b[0;34m/\u001b[0m\u001b[0mtheta_exp\u001b[0m\u001b[0;34m)\u001b[0m\u001b[0;34m\u001b[0m\u001b[0;34m\u001b[0m\u001b[0m\n\u001b[0m\u001b[1;32m     64\u001b[0m           \u001b[0msampled_alpha_copy\u001b[0m\u001b[0;34m[\u001b[0m\u001b[0mk\u001b[0m\u001b[0;34m,\u001b[0m \u001b[0ml\u001b[0m\u001b[0;34m]\u001b[0m \u001b[0;34m=\u001b[0m \u001b[0mmetropolis_hastings\u001b[0m\u001b[0;34m(\u001b[0m\u001b[0mdensite_sampling_A\u001b[0m\u001b[0;34m,\u001b[0m \u001b[0ma\u001b[0m\u001b[0;34m,\u001b[0m \u001b[0mb\u001b[0m\u001b[0;34m,\u001b[0m \u001b[0msim_alpha\u001b[0m\u001b[0;34m[\u001b[0m\u001b[0mstep\u001b[0m\u001b[0;34m-\u001b[0m\u001b[0;36m1\u001b[0m\u001b[0;34m]\u001b[0m\u001b[0;34m[\u001b[0m\u001b[0mk\u001b[0m\u001b[0;34m,\u001b[0m\u001b[0ml\u001b[0m\u001b[0;34m]\u001b[0m\u001b[0;34m,\u001b[0m \u001b[0mstd_choice\u001b[0m \u001b[0;34m=\u001b[0m \u001b[0;36m0.01\u001b[0m\u001b[0;34m,\u001b[0m \u001b[0msize\u001b[0m\u001b[0;34m=\u001b[0m\u001b[0;36m1\u001b[0m\u001b[0;34m)\u001b[0m\u001b[0;34m\u001b[0m\u001b[0;34m\u001b[0m\u001b[0m\n\u001b[1;32m     65\u001b[0m           \u001b[0msim_alpha\u001b[0m\u001b[0;34m[\u001b[0m\u001b[0mstep\u001b[0m\u001b[0;34m]\u001b[0m\u001b[0;34m[\u001b[0m\u001b[0mk\u001b[0m\u001b[0;34m,\u001b[0m \u001b[0ml\u001b[0m\u001b[0;34m]\u001b[0m \u001b[0;34m=\u001b[0m \u001b[0msampled_alpha_copy\u001b[0m\u001b[0;34m[\u001b[0m\u001b[0mk\u001b[0m\u001b[0;34m,\u001b[0m \u001b[0ml\u001b[0m\u001b[0;34m]\u001b[0m\u001b[0;34m\u001b[0m\u001b[0;34m\u001b[0m\u001b[0m\n",
            "\u001b[0;31mKeyboardInterrupt\u001b[0m: "
          ]
        }
      ]
    }
  ]
}